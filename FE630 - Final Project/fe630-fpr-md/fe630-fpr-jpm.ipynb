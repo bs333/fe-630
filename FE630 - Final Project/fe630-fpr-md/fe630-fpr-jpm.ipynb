{
 "cells": [
  {
   "cell_type": "markdown",
   "metadata": {},
   "source": [
    "# FE630 - Final Project (Revision)\n",
    "\n",
    "**Author**: Sid Bhatia\n",
    "\n",
    "**Date**: May 15th, 2024\n",
    "\n",
    "**Pledge**: I pledge my honor that I have abided by the Stevens Honor System.\n",
    "\n",
    "**Professor**: [Papa Momar Ndiaye](https://www.stevens.edu/profile/pndiaye)"
   ]
  },
  {
   "cell_type": "markdown",
   "metadata": {},
   "source": [
    "## 0 $\\,$ Disclaimer\n",
    "\n",
    "This work is in response to the original (numerical) grade received as a $\\bf{25\\%}$ due to my imprudence and deviation from the requested prompt.\n",
    "\n",
    "I (profusely) apologize for my incompetence; I will take corrective action."
   ]
  }
 ],
 "metadata": {
  "language_info": {
   "name": "python"
  }
 },
 "nbformat": 4,
 "nbformat_minor": 2
}
