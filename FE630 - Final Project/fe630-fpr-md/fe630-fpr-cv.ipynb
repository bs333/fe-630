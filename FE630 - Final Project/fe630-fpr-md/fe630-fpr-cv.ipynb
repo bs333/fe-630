{
 "cells": [
  {
   "cell_type": "markdown",
   "metadata": {},
   "source": [
    "# $\\text{Code (Vomit)} \\; \\mid \\; \\, : \\text{P}$"
   ]
  },
  {
   "cell_type": "markdown",
   "metadata": {},
   "source": [
    "### $ 1. \\; \\text{Collection (of Data)} $"
   ]
  },
  {
   "cell_type": "code",
   "execution_count": 1,
   "metadata": {},
   "outputs": [
    {
     "name": "stderr",
     "output_type": "stream",
     "text": [
      "[*********************100%%**********************]  12 of 12 completed\n"
     ]
    }
   ],
   "source": [
    "import yfinance as yf\n",
    "import pandas as pd\n",
    "\n",
    "# List of ETF tickers\n",
    "tickers = ['FXE', 'EWJ', 'GLD', 'QQQ', 'SPY', 'SHV', 'DBA', 'USO', 'XBI', 'ILF', 'EPP', 'FEZ']\n",
    "\n",
    "# Download historical data for each ETF\n",
    "start_date = '2007-03-01'\n",
    "end_date = '2024-03-31'\n",
    "data = yf.download(tickers, start=start_date, end=end_date)\n",
    "\n",
    "# Only keep the adjusted close prices\n",
    "adj_close = data['Adj Close']\n",
    "\n",
    "# Save data to CSV\n",
    "adj_close.to_csv('etf_prices.csv')"
   ]
  }
 ],
 "metadata": {
  "kernelspec": {
   "display_name": "Python 3",
   "language": "python",
   "name": "python3"
  },
  "language_info": {
   "codemirror_mode": {
    "name": "ipython",
    "version": 3
   },
   "file_extension": ".py",
   "mimetype": "text/x-python",
   "name": "python",
   "nbconvert_exporter": "python",
   "pygments_lexer": "ipython3",
   "version": "3.12.2"
  }
 },
 "nbformat": 4,
 "nbformat_minor": 2
}
