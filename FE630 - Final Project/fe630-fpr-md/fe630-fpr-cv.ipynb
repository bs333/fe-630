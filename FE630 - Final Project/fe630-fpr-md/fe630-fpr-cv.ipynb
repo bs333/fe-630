{
 "cells": [
  {
   "cell_type": "markdown",
   "metadata": {},
   "source": [
    "# $\\text{Code (Vomit)} \\; \\mid \\; \\, : \\text{P}$\n",
    "\n",
    "---"
   ]
  },
  {
   "cell_type": "markdown",
   "metadata": {},
   "source": [
    "### $ 1. \\; \\; \\; \\text{Collection (of Data)} $"
   ]
  },
  {
   "cell_type": "code",
   "execution_count": 1,
   "metadata": {},
   "outputs": [
    {
     "name": "stderr",
     "output_type": "stream",
     "text": [
      "[*********************100%%**********************]  12 of 12 completed\n"
     ]
    }
   ],
   "source": [
    "import yfinance as yf\n",
    "import pandas as pd\n",
    "\n",
    "# List of ETF tickers\n",
    "tickers = ['FXE', 'EWJ', 'GLD', 'QQQ', 'SPY', 'SHV', 'DBA', 'USO', 'XBI', 'ILF', 'EPP', 'FEZ']\n",
    "\n",
    "# Download historical data for each ETF\n",
    "start_date = '2007-03-01'\n",
    "end_date = '2024-03-31'\n",
    "data = yf.download(tickers, start=start_date, end=end_date)\n",
    "\n",
    "# Only keep the adjusted close prices\n",
    "adj_close = data['Adj Close']\n",
    "\n",
    "# Save data to CSV\n",
    "adj_close.to_csv('etf_prices.csv')"
   ]
  },
  {
   "cell_type": "markdown",
   "metadata": {},
   "source": [
    "### $ 2. \\; \\; \\; \\text{Construction (of)} \\; \\mathcal{THE} \\; \\, \\textbf{Factor Model} $"
   ]
  },
  {
   "cell_type": "code",
   "execution_count": 6,
   "metadata": {},
   "outputs": [
    {
     "name": "stdout",
     "output_type": "stream",
     "text": [
      "Line 1: This file was created by CMPT_ME_BEME_RETS_DAILY using the 202403 CRSP database.\n",
      "\n",
      "Line 2: The Tbill return is the simple daily rate that, over the number of trading days\n",
      "\n",
      "Line 3: in the month, compounds to 1-month TBill rate from Ibbotson and Associates Inc.\n",
      "\n",
      "Line 4: \n",
      "\n",
      "Line 5: ,Mkt-RF,SMB,HML,RF\n",
      "\n",
      "Line 6: 19260701,    0.10,   -0.25,   -0.27,   0.009\n",
      "\n",
      "Line 7: 19260702,    0.45,   -0.33,   -0.06,   0.009\n",
      "\n",
      "Line 8: 19260706,    0.17,    0.30,   -0.39,   0.009\n",
      "\n",
      "Line 9: 19260707,    0.09,   -0.58,    0.02,   0.009\n",
      "\n",
      "Line 10: 19260708,    0.21,   -0.38,    0.19,   0.009\n",
      "\n",
      "Error reading the CSV file: time data \"Copyright 2024 Kenneth R. French\" doesn't match format \"%Y%m%d\", at position 25710. You might want to try:\n",
      "    - passing `format` if your strings have a consistent format;\n",
      "    - passing `format='ISO8601'` if your strings are all ISO8601 but not necessarily in exactly the same format;\n",
      "    - passing `format='mixed'`, and the format will be inferred for each element individually. You might want to use `dayfirst` alongside this.\n"
     ]
    }
   ],
   "source": [
    "import pandas as pd\n",
    "\n",
    "# Load the Fama-French factors CSV\n",
    "file_path = './F-F_Research_Data_Factors_daily.CSV'\n",
    "\n",
    "# Read the CSV with specified delimiter and skip initial rows if necessary\n",
    "try:\n",
    "    # Check if there are any header rows to skip\n",
    "    with open(file_path, 'r') as file:\n",
    "        lines = file.readlines()\n",
    "        for i, line in enumerate(lines[:10]):  # Inspect the first 10 lines\n",
    "            print(f\"Line {i + 1}: {line}\")\n",
    "\n",
    "    # Adjust the skiprows parameter based on the output\n",
    "    ff_data = pd.read_csv(file_path, skiprows=4, index_col=0)\n",
    "    ff_data.index = pd.to_datetime(ff_data.index, format='%Y%m%d')\n",
    "    ff_data = ff_data.loc['2007-03-01':'2024-03-31']\n",
    "\n",
    "    print(ff_data.head())  # Display the first few rows to verify\n",
    "except Exception as e:\n",
    "    print(f\"Error reading the CSV file: {e}\")"
   ]
  },
  {
   "cell_type": "code",
   "execution_count": 9,
   "metadata": {},
   "outputs": [
    {
     "name": "stdout",
     "output_type": "stream",
     "text": [
      "        Alpha    Mkt-RF       SMB       HML\n",
      "DBA -0.000032  0.002360 -0.000186  0.000630\n",
      "EPP -0.000142  0.010475 -0.000677  0.001387\n",
      "EWJ -0.000139  0.007755 -0.000921  0.000244\n",
      "FEZ -0.000184  0.011116 -0.000657  0.001652\n",
      "FXE -0.000074  0.001090  0.000042  0.000097\n"
     ]
    }
   ],
   "source": [
    "import pandas as pd\n",
    "import statsmodels.api as sm\n",
    "\n",
    "# Function to load and process Fama-French factors\n",
    "def fama_french_factors(start_date, end_date, file_path):\n",
    "    try:\n",
    "        # Load the Fama-French factors data, skipping the first 4 metadata lines\n",
    "        ff_data = pd.read_csv(file_path, skiprows=3, index_col=0)\n",
    "        ff_data.index = pd.to_datetime(ff_data.index, format='%Y%m%d', errors='coerce')\n",
    "        \n",
    "        # Drop rows with invalid dates\n",
    "        ff_data = ff_data.dropna()\n",
    "        \n",
    "        # Sort the index to ensure it is in chronological order\n",
    "        ff_data = ff_data.sort_index()\n",
    "        \n",
    "        # Slice the data for the specified date range\n",
    "        ff_data = ff_data.loc[start_date:end_date]\n",
    "        return ff_data\n",
    "    except Exception as e:\n",
    "        print(f\"Error processing the Fama-French data: {e}\")\n",
    "        return None\n",
    "\n",
    "# Usage example\n",
    "start_date = '2007-03-01'\n",
    "end_date = '2024-03-31'\n",
    "file_path = './F-F_Research_Data_Factors_daily.CSV'\n",
    "\n",
    "ff_factors = fama_french_factors(start_date, end_date, file_path)\n",
    "\n",
    "# Proceed with the analysis\n",
    "if ff_factors is not None:\n",
    "    etf_data = pd.read_csv('etf_prices.csv', index_col=0, parse_dates=True)\n",
    "    etf_returns = etf_data.pct_change().dropna()\n",
    "\n",
    "    # Merge ETF returns with Fama-French factors\n",
    "    merged_data = etf_returns.join(ff_factors, how='inner')\n",
    "\n",
    "    # Estimate factor loadings for each ETF\n",
    "    factor_loadings = {}\n",
    "    for ticker in etf_data.columns:\n",
    "        model = sm.OLS(merged_data[ticker], sm.add_constant(merged_data[['Mkt-RF', 'SMB', 'HML']]))\n",
    "        results = model.fit()\n",
    "        factor_loadings[ticker] = results.params\n",
    "\n",
    "    # Convert factor loadings to a DataFrame\n",
    "    factor_loadings_df = pd.DataFrame(factor_loadings).T\n",
    "    factor_loadings_df.columns = ['Alpha', 'Mkt-RF', 'SMB', 'HML']\n",
    "    factor_loadings_df.to_csv('factor_loadings.csv')\n",
    "\n",
    "    print(factor_loadings_df.head())"
   ]
  },
  {
   "cell_type": "markdown",
   "metadata": {},
   "source": [
    "### $ 3. \\; \\; \\; \\text{Optim(ization)} $"
   ]
  },
  {
   "cell_type": "markdown",
   "metadata": {},
   "source": [
    "#### $ 3.1 \\; \\; \\text{Strat} \\; \\; \\mathcal{I} $ "
   ]
  },
  {
   "cell_type": "code",
   "execution_count": 12,
   "metadata": {},
   "outputs": [
    {
     "name": "stdout",
     "output_type": "stream",
     "text": [
      "Optimal weights for Strategy I: [ 1.57452502 -1.99997055 -1.99999286 -1.99999298 -1.99999269  1.9999992\n",
      " -0.57456848  1.99999897  1.99999577  1.99999792 -1.99999753  1.99999822]\n"
     ]
    }
   ],
   "source": [
    "import cvxpy as cp\n",
    "import numpy as np\n",
    "\n",
    "def optimize_strategy_I(expected_returns, cov_matrix, factor_loadings, beta_constraints, lambd):\n",
    "    n = len(expected_returns)\n",
    "    w = cp.Variable(n)\n",
    "    portfolio_return = expected_returns @ w\n",
    "    portfolio_risk = cp.quad_form(w, cov_matrix)\n",
    "    \n",
    "    # Calculate the portfolio beta using factor loadings\n",
    "    portfolio_beta = factor_loadings['Mkt-RF'].values @ w\n",
    "    \n",
    "    constraints = [\n",
    "        cp.sum(w) == 1,\n",
    "        portfolio_beta >= beta_constraints[0],\n",
    "        portfolio_beta <= beta_constraints[1],\n",
    "        w >= -2,\n",
    "        w <= 2\n",
    "    ]\n",
    "    \n",
    "    # Objective function: maximizing return minus risk-adjusted return\n",
    "    objective = cp.Maximize(portfolio_return - lambd * cp.norm(portfolio_risk, 2))\n",
    "    prob = cp.Problem(objective, constraints)\n",
    "    prob.solve()\n",
    "    \n",
    "    return w.value\n",
    "\n",
    "# Example usage\n",
    "beta_constraints = [-0.5, 0.5]\n",
    "lambd = 0.1\n",
    "expected_returns = factor_loadings_df['Alpha'].values\n",
    "cov_matrix = etf_returns.cov().values\n",
    "\n",
    "optimal_weights_I = optimize_strategy_I(expected_returns, cov_matrix, factor_loadings_df, beta_constraints, lambd)\n",
    "print(\"Optimal weights for Strategy I:\", optimal_weights_I)"
   ]
  },
  {
   "cell_type": "markdown",
   "metadata": {},
   "source": [
    "#### $ 3.2 \\; \\; \\text{Strat} \\; \\; \\mathcal{II} $ "
   ]
  },
  {
   "cell_type": "code",
   "execution_count": 15,
   "metadata": {},
   "outputs": [
    {
     "name": "stdout",
     "output_type": "stream",
     "text": [
      "Optimal weights for Strategy II: [ 0.02058621  0.1072614   0.09340881  0.10845794  0.02415552  0.03810605\n",
      "  0.08879167  0.19751428  0.05704948  0.17376242 -0.05986655  0.15077276]\n"
     ]
    }
   ],
   "source": [
    "from scipy.optimize import minimize\n",
    "\n",
    "def tracking_error_volatility(weights, returns_data, benchmark_returns):\n",
    "    # Calculate portfolio returns\n",
    "    portfolio_returns = returns_data @ weights\n",
    "    # Calculate tracking error volatility\n",
    "    return np.sqrt(np.var(portfolio_returns - benchmark_returns))\n",
    "\n",
    "def optimize_strategy_II(expected_returns, returns_data, factor_loadings, beta_constraints, lambd, benchmark_returns):\n",
    "    n = len(expected_returns)\n",
    "    \n",
    "    def objective(weights):\n",
    "        portfolio_return = expected_returns @ weights\n",
    "        te_vol = tracking_error_volatility(weights, returns_data, benchmark_returns)\n",
    "        return -(portfolio_return - lambd * te_vol)\n",
    "    \n",
    "    constraints = [\n",
    "        {'type': 'eq', 'fun': lambda w: np.sum(w) - 1},\n",
    "        {'type': 'ineq', 'fun': lambda w: beta_constraints[1] - np.sum(w * factor_loadings['Mkt-RF'].values)},\n",
    "        {'type': 'ineq', 'fun': lambda w: np.sum(w * factor_loadings['Mkt-RF'].values) - beta_constraints[0]},\n",
    "        {'type': 'ineq', 'fun': lambda w: 2 - w},\n",
    "        {'type': 'ineq', 'fun': lambda w: w + 2}\n",
    "    ]\n",
    "    \n",
    "    bounds = [(-2, 2) for _ in range(n)]\n",
    "    result = minimize(objective, np.ones(n) / n, bounds=bounds, constraints=constraints)\n",
    "    return result.x\n",
    "\n",
    "# Example usage\n",
    "beta_constraints = [-2, 2]\n",
    "lambd = 0.1\n",
    "benchmark_returns = etf_returns['SPY'].values\n",
    "returns_data = etf_returns.values  # Adjusted to use returns data directly\n",
    "\n",
    "optimal_weights_II = optimize_strategy_II(expected_returns, returns_data, factor_loadings_df, beta_constraints, lambd, benchmark_returns)\n",
    "print(\"Optimal weights for Strategy II:\", optimal_weights_II)"
   ]
  },
  {
   "cell_type": "markdown",
   "metadata": {},
   "source": [
    "### $ 3. \\; \\; \\; \\text{The Test (of b A c K)} $"
   ]
  }
 ],
 "metadata": {
  "kernelspec": {
   "display_name": "Python 3",
   "language": "python",
   "name": "python3"
  },
  "language_info": {
   "codemirror_mode": {
    "name": "ipython",
    "version": 3
   },
   "file_extension": ".py",
   "mimetype": "text/x-python",
   "name": "python",
   "nbconvert_exporter": "python",
   "pygments_lexer": "ipython3",
   "version": "3.12.2"
  }
 },
 "nbformat": 4,
 "nbformat_minor": 2
}
