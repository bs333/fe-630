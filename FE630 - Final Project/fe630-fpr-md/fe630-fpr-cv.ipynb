{
 "cells": [
  {
   "cell_type": "markdown",
   "metadata": {},
   "source": [
    "# $\\text{Code (Vomit)} \\; \\mid \\; \\, : \\text{P}$"
   ]
  },
  {
   "cell_type": "markdown",
   "metadata": {},
   "source": [
    "### $ 1. \\; \\text{Collection (of Data)} $"
   ]
  },
  {
   "cell_type": "code",
   "execution_count": 1,
   "metadata": {},
   "outputs": [
    {
     "name": "stderr",
     "output_type": "stream",
     "text": [
      "[*********************100%%**********************]  12 of 12 completed\n"
     ]
    }
   ],
   "source": [
    "import yfinance as yf\n",
    "import pandas as pd\n",
    "\n",
    "# List of ETF tickers\n",
    "tickers = ['FXE', 'EWJ', 'GLD', 'QQQ', 'SPY', 'SHV', 'DBA', 'USO', 'XBI', 'ILF', 'EPP', 'FEZ']\n",
    "\n",
    "# Download historical data for each ETF\n",
    "start_date = '2007-03-01'\n",
    "end_date = '2024-03-31'\n",
    "data = yf.download(tickers, start=start_date, end=end_date)\n",
    "\n",
    "# Only keep the adjusted close prices\n",
    "adj_close = data['Adj Close']\n",
    "\n",
    "# Save data to CSV\n",
    "adj_close.to_csv('etf_prices.csv')"
   ]
  },
  {
   "cell_type": "markdown",
   "metadata": {},
   "source": [
    "### $ 2. \\; \\text{Construction (of)} \\; \\mathcal{THE} \\; \\, \\textbf{Factor Model} $"
   ]
  },
  {
   "cell_type": "code",
   "execution_count": 6,
   "metadata": {},
   "outputs": [
    {
     "name": "stdout",
     "output_type": "stream",
     "text": [
      "Line 1: This file was created by CMPT_ME_BEME_RETS_DAILY using the 202403 CRSP database.\n",
      "\n",
      "Line 2: The Tbill return is the simple daily rate that, over the number of trading days\n",
      "\n",
      "Line 3: in the month, compounds to 1-month TBill rate from Ibbotson and Associates Inc.\n",
      "\n",
      "Line 4: \n",
      "\n",
      "Line 5: ,Mkt-RF,SMB,HML,RF\n",
      "\n",
      "Line 6: 19260701,    0.10,   -0.25,   -0.27,   0.009\n",
      "\n",
      "Line 7: 19260702,    0.45,   -0.33,   -0.06,   0.009\n",
      "\n",
      "Line 8: 19260706,    0.17,    0.30,   -0.39,   0.009\n",
      "\n",
      "Line 9: 19260707,    0.09,   -0.58,    0.02,   0.009\n",
      "\n",
      "Line 10: 19260708,    0.21,   -0.38,    0.19,   0.009\n",
      "\n",
      "Error reading the CSV file: time data \"Copyright 2024 Kenneth R. French\" doesn't match format \"%Y%m%d\", at position 25710. You might want to try:\n",
      "    - passing `format` if your strings have a consistent format;\n",
      "    - passing `format='ISO8601'` if your strings are all ISO8601 but not necessarily in exactly the same format;\n",
      "    - passing `format='mixed'`, and the format will be inferred for each element individually. You might want to use `dayfirst` alongside this.\n"
     ]
    }
   ],
   "source": [
    "import pandas as pd\n",
    "\n",
    "# Load the Fama-French factors CSV\n",
    "file_path = './F-F_Research_Data_Factors_daily.CSV'\n",
    "\n",
    "# Read the CSV with specified delimiter and skip initial rows if necessary\n",
    "try:\n",
    "    # Check if there are any header rows to skip\n",
    "    with open(file_path, 'r') as file:\n",
    "        lines = file.readlines()\n",
    "        for i, line in enumerate(lines[:10]):  # Inspect the first 10 lines\n",
    "            print(f\"Line {i + 1}: {line}\")\n",
    "\n",
    "    # Adjust the skiprows parameter based on the output\n",
    "    ff_data = pd.read_csv(file_path, skiprows=4, index_col=0)\n",
    "    ff_data.index = pd.to_datetime(ff_data.index, format='%Y%m%d')\n",
    "    ff_data = ff_data.loc['2007-03-01':'2024-03-31']\n",
    "\n",
    "    print(ff_data.head())  # Display the first few rows to verify\n",
    "except Exception as e:\n",
    "    print(f\"Error reading the CSV file: {e}\")"
   ]
  },
  {
   "cell_type": "code",
   "execution_count": 4,
   "metadata": {},
   "outputs": [
    {
     "ename": "ParserError",
     "evalue": "Error tokenizing data. C error: Expected 2 fields in line 5, saw 5\n",
     "output_type": "error",
     "traceback": [
      "\u001b[1;31m---------------------------------------------------------------------------\u001b[0m",
      "\u001b[1;31mParserError\u001b[0m                               Traceback (most recent call last)",
      "Cell \u001b[1;32mIn[4], line 15\u001b[0m\n\u001b[0;32m     12\u001b[0m etf_returns \u001b[38;5;241m=\u001b[39m etf_data\u001b[38;5;241m.\u001b[39mpct_change()\u001b[38;5;241m.\u001b[39mdropna()\n\u001b[0;32m     14\u001b[0m \u001b[38;5;66;03m# Load Fama-French factors\u001b[39;00m\n\u001b[1;32m---> 15\u001b[0m ff_factors \u001b[38;5;241m=\u001b[39m \u001b[43mfama_french_factors\u001b[49m\u001b[43m(\u001b[49m\u001b[43mstart_date\u001b[49m\u001b[43m,\u001b[49m\u001b[43m \u001b[49m\u001b[43mend_date\u001b[49m\u001b[43m)\u001b[49m\n\u001b[0;32m     17\u001b[0m \u001b[38;5;66;03m# Merge ETF returns with Fama-French factors\u001b[39;00m\n\u001b[0;32m     18\u001b[0m merged_data \u001b[38;5;241m=\u001b[39m etf_returns\u001b[38;5;241m.\u001b[39mjoin(ff_factors, how\u001b[38;5;241m=\u001b[39m\u001b[38;5;124m'\u001b[39m\u001b[38;5;124minner\u001b[39m\u001b[38;5;124m'\u001b[39m)\n",
      "Cell \u001b[1;32mIn[4], line 5\u001b[0m, in \u001b[0;36mfama_french_factors\u001b[1;34m(start_date, end_date)\u001b[0m\n\u001b[0;32m      3\u001b[0m \u001b[38;5;28;01mdef\u001b[39;00m \u001b[38;5;21mfama_french_factors\u001b[39m(start_date, end_date):\n\u001b[0;32m      4\u001b[0m     \u001b[38;5;66;03m# Load Fama-French factors (can be downloaded from Kenneth French's data library)\u001b[39;00m\n\u001b[1;32m----> 5\u001b[0m     ff_data \u001b[38;5;241m=\u001b[39m \u001b[43mpd\u001b[49m\u001b[38;5;241;43m.\u001b[39;49m\u001b[43mread_csv\u001b[49m\u001b[43m(\u001b[49m\u001b[38;5;124;43m'\u001b[39;49m\u001b[38;5;124;43mF-F_Research_Data_Factors_daily.csv\u001b[39;49m\u001b[38;5;124;43m'\u001b[39;49m\u001b[43m,\u001b[49m\u001b[43m \u001b[49m\u001b[43mindex_col\u001b[49m\u001b[38;5;241;43m=\u001b[39;49m\u001b[38;5;241;43m0\u001b[39;49m\u001b[43m)\u001b[49m\n\u001b[0;32m      6\u001b[0m     ff_data\u001b[38;5;241m.\u001b[39mindex \u001b[38;5;241m=\u001b[39m pd\u001b[38;5;241m.\u001b[39mto_datetime(ff_data\u001b[38;5;241m.\u001b[39mindex, \u001b[38;5;28mformat\u001b[39m\u001b[38;5;241m=\u001b[39m\u001b[38;5;124m'\u001b[39m\u001b[38;5;124m%\u001b[39m\u001b[38;5;124mY\u001b[39m\u001b[38;5;124m%\u001b[39m\u001b[38;5;124mm\u001b[39m\u001b[38;5;132;01m%d\u001b[39;00m\u001b[38;5;124m'\u001b[39m)\n\u001b[0;32m      7\u001b[0m     ff_data \u001b[38;5;241m=\u001b[39m ff_data[(ff_data\u001b[38;5;241m.\u001b[39mindex \u001b[38;5;241m>\u001b[39m\u001b[38;5;241m=\u001b[39m start_date) \u001b[38;5;241m&\u001b[39m (ff_data\u001b[38;5;241m.\u001b[39mindex \u001b[38;5;241m<\u001b[39m\u001b[38;5;241m=\u001b[39m end_date)]\n",
      "File \u001b[1;32mc:\\Python312\\Lib\\site-packages\\pandas\\io\\parsers\\readers.py:1026\u001b[0m, in \u001b[0;36mread_csv\u001b[1;34m(filepath_or_buffer, sep, delimiter, header, names, index_col, usecols, dtype, engine, converters, true_values, false_values, skipinitialspace, skiprows, skipfooter, nrows, na_values, keep_default_na, na_filter, verbose, skip_blank_lines, parse_dates, infer_datetime_format, keep_date_col, date_parser, date_format, dayfirst, cache_dates, iterator, chunksize, compression, thousands, decimal, lineterminator, quotechar, quoting, doublequote, escapechar, comment, encoding, encoding_errors, dialect, on_bad_lines, delim_whitespace, low_memory, memory_map, float_precision, storage_options, dtype_backend)\u001b[0m\n\u001b[0;32m   1013\u001b[0m kwds_defaults \u001b[38;5;241m=\u001b[39m _refine_defaults_read(\n\u001b[0;32m   1014\u001b[0m     dialect,\n\u001b[0;32m   1015\u001b[0m     delimiter,\n\u001b[1;32m   (...)\u001b[0m\n\u001b[0;32m   1022\u001b[0m     dtype_backend\u001b[38;5;241m=\u001b[39mdtype_backend,\n\u001b[0;32m   1023\u001b[0m )\n\u001b[0;32m   1024\u001b[0m kwds\u001b[38;5;241m.\u001b[39mupdate(kwds_defaults)\n\u001b[1;32m-> 1026\u001b[0m \u001b[38;5;28;01mreturn\u001b[39;00m \u001b[43m_read\u001b[49m\u001b[43m(\u001b[49m\u001b[43mfilepath_or_buffer\u001b[49m\u001b[43m,\u001b[49m\u001b[43m \u001b[49m\u001b[43mkwds\u001b[49m\u001b[43m)\u001b[49m\n",
      "File \u001b[1;32mc:\\Python312\\Lib\\site-packages\\pandas\\io\\parsers\\readers.py:626\u001b[0m, in \u001b[0;36m_read\u001b[1;34m(filepath_or_buffer, kwds)\u001b[0m\n\u001b[0;32m    623\u001b[0m     \u001b[38;5;28;01mreturn\u001b[39;00m parser\n\u001b[0;32m    625\u001b[0m \u001b[38;5;28;01mwith\u001b[39;00m parser:\n\u001b[1;32m--> 626\u001b[0m     \u001b[38;5;28;01mreturn\u001b[39;00m \u001b[43mparser\u001b[49m\u001b[38;5;241;43m.\u001b[39;49m\u001b[43mread\u001b[49m\u001b[43m(\u001b[49m\u001b[43mnrows\u001b[49m\u001b[43m)\u001b[49m\n",
      "File \u001b[1;32mc:\\Python312\\Lib\\site-packages\\pandas\\io\\parsers\\readers.py:1923\u001b[0m, in \u001b[0;36mTextFileReader.read\u001b[1;34m(self, nrows)\u001b[0m\n\u001b[0;32m   1916\u001b[0m nrows \u001b[38;5;241m=\u001b[39m validate_integer(\u001b[38;5;124m\"\u001b[39m\u001b[38;5;124mnrows\u001b[39m\u001b[38;5;124m\"\u001b[39m, nrows)\n\u001b[0;32m   1917\u001b[0m \u001b[38;5;28;01mtry\u001b[39;00m:\n\u001b[0;32m   1918\u001b[0m     \u001b[38;5;66;03m# error: \"ParserBase\" has no attribute \"read\"\u001b[39;00m\n\u001b[0;32m   1919\u001b[0m     (\n\u001b[0;32m   1920\u001b[0m         index,\n\u001b[0;32m   1921\u001b[0m         columns,\n\u001b[0;32m   1922\u001b[0m         col_dict,\n\u001b[1;32m-> 1923\u001b[0m     ) \u001b[38;5;241m=\u001b[39m \u001b[38;5;28;43mself\u001b[39;49m\u001b[38;5;241;43m.\u001b[39;49m\u001b[43m_engine\u001b[49m\u001b[38;5;241;43m.\u001b[39;49m\u001b[43mread\u001b[49m\u001b[43m(\u001b[49m\u001b[43m  \u001b[49m\u001b[38;5;66;43;03m# type: ignore[attr-defined]\u001b[39;49;00m\n\u001b[0;32m   1924\u001b[0m \u001b[43m        \u001b[49m\u001b[43mnrows\u001b[49m\n\u001b[0;32m   1925\u001b[0m \u001b[43m    \u001b[49m\u001b[43m)\u001b[49m\n\u001b[0;32m   1926\u001b[0m \u001b[38;5;28;01mexcept\u001b[39;00m \u001b[38;5;167;01mException\u001b[39;00m:\n\u001b[0;32m   1927\u001b[0m     \u001b[38;5;28mself\u001b[39m\u001b[38;5;241m.\u001b[39mclose()\n",
      "File \u001b[1;32mc:\\Python312\\Lib\\site-packages\\pandas\\io\\parsers\\c_parser_wrapper.py:234\u001b[0m, in \u001b[0;36mCParserWrapper.read\u001b[1;34m(self, nrows)\u001b[0m\n\u001b[0;32m    232\u001b[0m \u001b[38;5;28;01mtry\u001b[39;00m:\n\u001b[0;32m    233\u001b[0m     \u001b[38;5;28;01mif\u001b[39;00m \u001b[38;5;28mself\u001b[39m\u001b[38;5;241m.\u001b[39mlow_memory:\n\u001b[1;32m--> 234\u001b[0m         chunks \u001b[38;5;241m=\u001b[39m \u001b[38;5;28;43mself\u001b[39;49m\u001b[38;5;241;43m.\u001b[39;49m\u001b[43m_reader\u001b[49m\u001b[38;5;241;43m.\u001b[39;49m\u001b[43mread_low_memory\u001b[49m\u001b[43m(\u001b[49m\u001b[43mnrows\u001b[49m\u001b[43m)\u001b[49m\n\u001b[0;32m    235\u001b[0m         \u001b[38;5;66;03m# destructive to chunks\u001b[39;00m\n\u001b[0;32m    236\u001b[0m         data \u001b[38;5;241m=\u001b[39m _concatenate_chunks(chunks)\n",
      "File \u001b[1;32mparsers.pyx:838\u001b[0m, in \u001b[0;36mpandas._libs.parsers.TextReader.read_low_memory\u001b[1;34m()\u001b[0m\n",
      "File \u001b[1;32mparsers.pyx:905\u001b[0m, in \u001b[0;36mpandas._libs.parsers.TextReader._read_rows\u001b[1;34m()\u001b[0m\n",
      "File \u001b[1;32mparsers.pyx:874\u001b[0m, in \u001b[0;36mpandas._libs.parsers.TextReader._tokenize_rows\u001b[1;34m()\u001b[0m\n",
      "File \u001b[1;32mparsers.pyx:891\u001b[0m, in \u001b[0;36mpandas._libs.parsers.TextReader._check_tokenize_status\u001b[1;34m()\u001b[0m\n",
      "File \u001b[1;32mparsers.pyx:2061\u001b[0m, in \u001b[0;36mpandas._libs.parsers.raise_parser_error\u001b[1;34m()\u001b[0m\n",
      "\u001b[1;31mParserError\u001b[0m: Error tokenizing data. C error: Expected 2 fields in line 5, saw 5\n"
     ]
    }
   ],
   "source": [
    "import statsmodels.api as sm\n",
    "\n",
    "def fama_french_factors(start_date, end_date):\n",
    "    # Load Fama-French factors (can be downloaded from Kenneth French's data library)\n",
    "    ff_data = pd.read_csv('F-F_Research_Data_Factors_daily.csv', index_col=0)\n",
    "    ff_data.index = pd.to_datetime(ff_data.index, format='%Y%m%d')\n",
    "    ff_data = ff_data[(ff_data.index >= start_date) & (ff_data.index <= end_date)]\n",
    "    return ff_data\n",
    "\n",
    "# Load ETF data\n",
    "etf_data = pd.read_csv('etf_prices.csv', index_col=0, parse_dates=True)\n",
    "etf_returns = etf_data.pct_change().dropna()\n",
    "\n",
    "# Load Fama-French factors\n",
    "ff_factors = fama_french_factors(start_date, end_date)\n",
    "\n",
    "# Merge ETF returns with Fama-French factors\n",
    "merged_data = etf_returns.join(ff_factors, how='inner')\n",
    "\n",
    "# Estimate factor loadings for each ETF\n",
    "factor_loadings = {}\n",
    "for ticker in tickers:\n",
    "    model = sm.OLS(merged_data[ticker], sm.add_constant(merged_data[['Mkt-RF', 'SMB', 'HML']]))\n",
    "    results = model.fit()\n",
    "    factor_loadings[ticker] = results.params\n",
    "\n",
    "# Convert factor loadings to a DataFrame\n",
    "factor_loadings_df = pd.DataFrame(factor_loadings).T\n",
    "factor_loadings_df.columns = ['Alpha', 'Mkt-RF', 'SMB', 'HML']\n",
    "factor_loadings_df.to_csv('factor_loadings.csv')"
   ]
  }
 ],
 "metadata": {
  "kernelspec": {
   "display_name": "Python 3",
   "language": "python",
   "name": "python3"
  },
  "language_info": {
   "codemirror_mode": {
    "name": "ipython",
    "version": 3
   },
   "file_extension": ".py",
   "mimetype": "text/x-python",
   "name": "python",
   "nbconvert_exporter": "python",
   "pygments_lexer": "ipython3",
   "version": "3.12.2"
  }
 },
 "nbformat": 4,
 "nbformat_minor": 2
}
