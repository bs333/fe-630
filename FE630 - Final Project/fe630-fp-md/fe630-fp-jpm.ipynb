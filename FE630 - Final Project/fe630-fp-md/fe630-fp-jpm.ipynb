{
 "cells": [
  {
   "cell_type": "markdown",
   "metadata": {},
   "source": [
    "# FE630 - Final Project"
   ]
  },
  {
   "cell_type": "markdown",
   "metadata": {},
   "source": [
    "**Author**: Sid Bhatia\n",
    "\n",
    "**Date**: May 14th, 2024\n",
    "\n",
    "**Pledge**: I pledge my honor that I have abided by the Stevens Honor System.\n",
    "\n",
    "**Professor**: [Papa Momar Ndiaye](https://www.stevens.edu/profile/pndiaye)"
   ]
  },
  {
   "cell_type": "markdown",
   "metadata": {},
   "source": [
    "## 1. Overview"
   ]
  },
  {
   "cell_type": "markdown",
   "metadata": {},
   "source": [
    "### 1.1 Goal\n",
    "\n",
    "The goal of this project to build and compare *two factor-based long short allocation models* with constraints on their *betas*. The first strategy considers a **target Beta** in the interval $[-0.5, 0.5]$, while the second has a target Beta in the interval $[-2, +2]$.\n",
    "\n",
    "The first strategy operates similar to a **Value-at-Risk Utility** corresponding to **Robust Optimization**; the second strategy incorporates an **Information Ratio** term to limit the deviations from a benchmark, provided those deviations yield a 'high return.'\n",
    "\n",
    "Once the optimization models are built, we want to *compare* the outcomes of the two models while simultaneously evaluating their sensitivity to the *length* of the estimators for the **covariance matrix** in tandem with the **expected returns** under various market regimes/scenarios. \n",
    "\n",
    "### 1.2 Reallocation\n",
    "\n",
    "The portfolios will be *reallocated* or, in other words, 'reoptimized' weekly from the beginning of **March 2007** to the end of **March 2024**. Our *investment universe* encompasses a set of exchange-traded funds (**ETFs**) which is large enough to represent the '**Global World Economy**' (as according to some).\n",
    "\n",
    "We will utilize the [Fama–French Three-Factor Model](https://en.wikipedia.org/wiki/Fama%E2%80%93French_three-factor_model) which incorporates the following factors:\n",
    "- Momentum\n",
    "- Value\n",
    "- Size.\n",
    "\n",
    "Regarding data accessability, these factors have historical values available for ***free*** from ***Ken French's*** [personal website](https://mba.tuck.dartmouth.edu/pages/faculty/ken.french/) in tandem with Yahoo Finance."
   ]
  }
 ],
 "metadata": {
  "language_info": {
   "name": "python"
  }
 },
 "nbformat": 4,
 "nbformat_minor": 2
}
