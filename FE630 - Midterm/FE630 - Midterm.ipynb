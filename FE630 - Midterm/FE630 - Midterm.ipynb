{
 "cells": [
  {
   "cell_type": "markdown",
   "metadata": {},
   "source": [
    "### FE630 - Midterm Project"
   ]
  },
  {
   "cell_type": "markdown",
   "metadata": {},
   "source": [
    "**Author**: Sid Bhatia\n",
    "\n",
    "**Date**: March 25th, 2023\n",
    "\n",
    "**Pledge**: I pledge my honor that I have abided by the Stevens Honor System.\n",
    "\n",
    "**Professor**: Papa Momar Ndiaye"
   ]
  },
  {
   "cell_type": "markdown",
   "metadata": {},
   "source": [
    "##### Question 1. (15 pts)"
   ]
  },
  {
   "cell_type": "markdown",
   "metadata": {},
   "source": [
    "The supplied $\\texttt{data.zip}$ file contains 30 space-delimited text files that contain price and volume data for 30 companies. Each row of each file contains date, opening price, closing price, high price, low price, volume, and adjusted closing price (last column). You will need that data for question 1. "
   ]
  },
  {
   "cell_type": "markdown",
   "metadata": {},
   "source": [
    "Write a program $\\texttt{processdata}$ to:\n",
    "\n",
    "1. Read all daily price files;\n",
    "2. Create a price matrix $\\texttt{P}$ by aligning the data’s dates and placing the adjusted closing prices side-by-side in columns;\n",
    "3. From the $\\texttt{P matrix}$, create a matrix of simple (not logarithmic) daily returns $\\texttt{R}$;\n",
    "4. Compute the vector of average daily returns mu for the companies using the $\\texttt{mean}$ function (do not use loops);\n",
    "5. Compute the covariance matrix $\\texttt{Q}$ from the return matrix using the $\\texttt{cov}$ function; and\n",
    "6. Save the return vector $\\texttt{mu}$ and the covariance matrix $\\texttt{Q}$ in the native format for your programming language in a file called $\\texttt{inputs.ext}$, where $\\texttt{ext}$ is the appropriate extension for a binary file in your language."
   ]
  },
  {
   "cell_type": "code",
   "execution_count": 10,
   "metadata": {},
   "outputs": [],
   "source": [
    "import pandas as pd\n",
    "import numpy as np\n",
    "import os\n",
    "from typing import List\n",
    "\n",
    "def processdata(data_dir: str = 'data') -> None:\n",
    "    \"\"\"\n",
    "    Processes stock price data to compute and save the average daily return vector and covariance matrix.\n",
    "    \n",
    "    This function reads stock price data from text files, each containing data for a company, then:\n",
    "    1. Creates a price matrix with adjusted close prices,\n",
    "    2. Calculates the daily return matrix,\n",
    "    3. Computes the vector of average daily returns for each company,\n",
    "    4. Computes the covariance matrix of the return matrix,\n",
    "    5. Saves the average daily returns vector and the covariance matrix to binary files.\n",
    "    \n",
    "    Parameters:\n",
    "    - data_dir (str): The directory containing the stock price files. Default is 'data'.\n",
    "    \n",
    "    Returns:\n",
    "    - None. The function saves two files: 'inputs_mu.pkl' and 'inputs_Q.pkl' with the results.\n",
    "    \"\"\"\n",
    "    # List to store the adjusted close price data for each company.\n",
    "    price_data: List[pd.Series] = []\n",
    "\n",
    "    # Loop through each file in the specified directory.\n",
    "    for file in os.listdir(data_dir):\n",
    "        if file.endswith('.txt'):\n",
    "            filepath = os.path.join(data_dir, file)\n",
    "            # Read data, assuming space-separated values without an explicit header.\n",
    "            df = pd.read_csv(filepath, sep=' ', header=None,\n",
    "                             names=['Date', 'Open', 'Close', 'High', 'Low', 'Volume', 'Adj Close'])\n",
    "            # Set date as the index for easy alignment later.\n",
    "            df.set_index('Date', inplace=True)\n",
    "            # Append the adjusted close price series to the list.\n",
    "            price_data.append(df['Adj Close'])\n",
    "\n",
    "    # Concatenate all the adjusted close prices side-by-side, aligning by date.\n",
    "    P = pd.concat(price_data, axis=1)\n",
    "    P.sort_index(inplace=True)  # Ensure the dates are in order.\n",
    "\n",
    "    # Calculate daily returns by comparing each price with the previous day's price.\n",
    "    R = P.pct_change().dropna()  # Drop the first row since its percentage change is undefined.\n",
    "\n",
    "    # Calculate the vector of average daily returns for each company.\n",
    "    mu = R.mean(axis=0)\n",
    "\n",
    "\n"
   ]
  }
 ],
 "metadata": {
  "kernelspec": {
   "display_name": "Python 3",
   "language": "python",
   "name": "python3"
  },
  "language_info": {
   "codemirror_mode": {
    "name": "ipython",
    "version": 3
   },
   "file_extension": ".py",
   "mimetype": "text/x-python",
   "name": "python",
   "nbconvert_exporter": "python",
   "pygments_lexer": "ipython3",
   "version": "3.11.5"
  }
 },
 "nbformat": 4,
 "nbformat_minor": 2
}
