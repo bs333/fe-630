{
 "cells": [
  {
   "cell_type": "markdown",
   "metadata": {},
   "source": [
    "### FE630 - Midterm Project"
   ]
  },
  {
   "cell_type": "markdown",
   "metadata": {},
   "source": [
    "**Author**: Sid Bhatia\n",
    "\n",
    "**Date**: March 25th, 2023\n",
    "\n",
    "**Pledge**: I pledge my honor that I have abided by the Stevens Honor System.\n",
    "\n",
    "**Professor**: Papa Momar Ndiaye"
   ]
  },
  {
   "cell_type": "markdown",
   "metadata": {},
   "source": [
    "##### Question 1. (15 pts)"
   ]
  },
  {
   "cell_type": "markdown",
   "metadata": {},
   "source": [
    "The supplied $\\texttt{data.zip}$ file contains 30 space-delimited text files that contain price and volume data for 30 companies. Each row of each file contains date, opening price, closing price, high price, low price, volume, and adjusted closing price (last column). You will need that data for question 1. "
   ]
  },
  {
   "cell_type": "markdown",
   "metadata": {},
   "source": [
    "Write a program $\\texttt{processdata}$ to:\n",
    "\n",
    "1. Read all daily price files;\n",
    "2. Create a price matrix $\\texttt{P}$ by aligning the data’s dates and placing the adjusted closing prices side-by-side in columns;\n",
    "3. From the $\\texttt{P matrix}$, create a matrix of simple (not logarithmic) daily returns $\\texttt{R}$;\n",
    "4. Compute the vector of average daily returns mu for the companies using the $\\texttt{mean}$ function (do not use loops);\n",
    "5. Compute the covariance matrix $\\texttt{Q}$ from the return matrix using the $\\texttt{cov}$ function; and\n",
    "6. Save the return vector $\\texttt{mu}$ and the covariance matrix $\\texttt{Q}$ in the native format for your programming language in a file called $\\texttt{inputs.ext}$, where $\\texttt{ext}$ is the appropriate extension for a binary file in your language."
   ]
  },
  {
   "cell_type": "code",
   "execution_count": 165,
   "metadata": {},
   "outputs": [
    {
     "name": "stdout",
     "output_type": "stream",
     "text": [
      "Adj Close    0.000225\n",
      "Adj Close    0.000473\n",
      "Adj Close    0.000945\n",
      "Adj Close    0.000540\n",
      "Adj Close   -0.000340\n",
      "dtype: float64\n",
      "           Adj Close  Adj Close  Adj Close  Adj Close  Adj Close  Adj Close   \n",
      "Adj Close   0.000342   0.000079   0.000080   0.000097   0.000104   0.000069  \\\n",
      "Adj Close   0.000079   0.000144   0.000066   0.000088   0.000062   0.000051   \n",
      "Adj Close   0.000080   0.000066   0.000169   0.000076   0.000058   0.000056   \n",
      "Adj Close   0.000097   0.000088   0.000076   0.000215   0.000075   0.000073   \n",
      "Adj Close   0.000104   0.000062   0.000058   0.000075   0.000166   0.000059   \n",
      "\n",
      "           Adj Close  Adj Close  Adj Close  Adj Close  ...  Adj Close   \n",
      "Adj Close   0.000100   0.000084   0.000075   0.000076  ...   0.000076  \\\n",
      "Adj Close   0.000056   0.000060   0.000071   0.000063  ...   0.000063   \n",
      "Adj Close   0.000050   0.000058   0.000066   0.000062  ...   0.000056   \n",
      "Adj Close   0.000074   0.000073   0.000080   0.000074  ...   0.000071   \n",
      "Adj Close   0.000077   0.000061   0.000055   0.000077  ...   0.000071   \n",
      "\n",
      "           Adj Close  Adj Close  Adj Close  Adj Close  Adj Close  Adj Close   \n",
      "Adj Close   0.000055   0.000037   0.000052   0.000054   0.000072   0.000073  \\\n",
      "Adj Close   0.000055   0.000043   0.000043   0.000055   0.000052   0.000068   \n",
      "Adj Close   0.000046   0.000037   0.000034   0.000049   0.000062   0.000078   \n",
      "Adj Close   0.000055   0.000039   0.000040   0.000069   0.000079   0.000072   \n",
      "Adj Close   0.000043   0.000030   0.000043   0.000047   0.000053   0.000068   \n",
      "\n",
      "           Adj Close  Adj Close  Adj Close  \n",
      "Adj Close   0.000050   0.000044   0.000089  \n",
      "Adj Close   0.000052   0.000041   0.000053  \n",
      "Adj Close   0.000041   0.000039   0.000049  \n",
      "Adj Close   0.000040   0.000041   0.000066  \n",
      "Adj Close   0.000040   0.000031   0.000072  \n",
      "\n",
      "[5 rows x 30 columns]\n"
     ]
    }
   ],
   "source": [
    "import pandas as pd\n",
    "import numpy as np\n",
    "import os\n",
    "from typing import List\n",
    "\n",
    "def processdata(data_dir: str = 'data') -> None:\n",
    "    \"\"\"\n",
    "    Processes stock price data to compute and save the average daily return vector and covariance matrix.\n",
    "    \n",
    "    This function reads stock price data from text files, each containing data for a company, then:\n",
    "    1. Creates a price matrix with adjusted close prices,\n",
    "    2. Calculates the daily return matrix,\n",
    "    3. Computes the vector of average daily returns for each company,\n",
    "    4. Computes the covariance matrix of the return matrix,\n",
    "    5. Saves the average daily returns vector and the covariance matrix to binary files.\n",
    "    \n",
    "    Parameters:\n",
    "    - data_dir (str): The directory containing the stock price files. Default is 'data'.\n",
    "    \n",
    "    Returns:\n",
    "    - None. The function saves two files: 'inputs_mu.pkl' and 'inputs_Q.pkl' with the results.\n",
    "    \"\"\"\n",
    "    # List to store the adjusted close price data for each company.\n",
    "    price_data: List[pd.Series] = []\n",
    "\n",
    "    # Loop through each file in the specified directory.\n",
    "    for file in os.listdir(data_dir):\n",
    "        if file.endswith('.txt'):\n",
    "            filepath = os.path.join(data_dir, file)\n",
    "            # Read data, assuming space-separated values without an explicit header.\n",
    "            df = pd.read_csv(filepath, sep=' ', header=None,\n",
    "                             names=['Date', 'Open', 'Close', 'High', 'Low', 'Volume', 'Adj Close'])\n",
    "            # Set date as the index for easy alignment later.\n",
    "            df.set_index('Date', inplace=True)\n",
    "            # Append the adjusted close price series to the list.\n",
    "            price_data.append(df['Adj Close'])\n",
    "\n",
    "    # Concatenate all the adjusted close prices side-by-side, aligning by date.\n",
    "    P = pd.concat(price_data, axis=1)\n",
    "    P.sort_index(inplace=True)  # Ensure the dates are in order.\n",
    "\n",
    "    # Calculate daily returns by comparing each price with the previous day's price.\n",
    "    R = P.pct_change().dropna()  # Drop the first row since its percentage change is undefined.\n",
    "\n",
    "    # Calculate the vector of average daily returns for each company.\n",
    "    mu = R.mean(axis=0)\n",
    "\n",
    "    print(mu.head())\n",
    "\n",
    "    # Calculate the covariance matrix of the daily returns.\n",
    "    Q = R.cov()\n",
    "\n",
    "    print(Q.head())\n",
    "\n",
    "    # Save the vector of average daily returns and the covariance matrix as binary files.\n",
    "    mu.to_pickle('inputs_mu.pkl')\n",
    "    Q.to_pickle('inputs_Q.pkl')\n",
    "\n",
    "processdata()"
   ]
  },
  {
   "cell_type": "markdown",
   "metadata": {},
   "source": [
    "##### Question 2. (15 pts)"
   ]
  },
  {
   "cell_type": "markdown",
   "metadata": {},
   "source": [
    "Write a function called $\\texttt{port}$ that uses standard quadratic programming libraries that will:\n",
    "\n",
    "- Take the set of input parameters $\\texttt{mu}$ (mean vector $\\mu$), $\\texttt{Q}$ (covariance matrix $Q$), and $\\texttt{tau}$ (risk tolerance $\\tau$), and return vector $h$ that maximizes the following utility function $U$ defined by: $$U(h) = -\\frac{1}{2}h^T Q h + \\tau h^T \\mu$$ subject to the constraints $$0 \\leq h_i \\leq 0.1 \\; \\text{for all} \\; i, \\; \\text{and}$$ $$\\sum_{i=1}^n h_i = h^T e = 1$$ where $n$ is the number of securities in the portfolio."
   ]
  },
  {
   "cell_type": "code",
   "execution_count": 166,
   "metadata": {},
   "outputs": [],
   "source": [
    "import cvxpy as cp\n",
    "\n",
    "def port(mu: np.ndarray, Q: np.ndarray, tau: float) -> np.ndarray:\n",
    "    \"\"\"\n",
    "    Solves the portfolio optimization problem to maximize the utility function\n",
    "    under given constraints using quadratic programming.\n",
    "    \n",
    "    Parameters:\n",
    "    - mu (np.ndarray): The mean return vector for the securities.\n",
    "    - Q (np.ndarray): The covariance matrix of the securities' returns.\n",
    "    - tau (float): The risk tolerance parameter of the utility function.\n",
    "    \n",
    "    Returns:\n",
    "    - h (np.ndarray): The optimized portfolio weights vector.\n",
    "    \"\"\"\n",
    "    \n",
    "    # Number of securities\n",
    "    n = mu.shape[0]\n",
    "    \n",
    "    ## print(n)\n",
    "    \n",
    "    # Portfolio weights variable\n",
    "    h = cp.Variable(n)\n",
    "\n",
    "    ## print(h)\n",
    "\n",
    "    # Define utility function to maximize.\n",
    "    utility = -0.5 * cp.quad_form(h, Q) + tau * cp.matmul(h.T, mu)\n",
    "\n",
    "    ## print(utility)\n",
    "\n",
    "    # Constraints: 0 <= h_i <= 0.1 for all i, and sum(h_i) == 1\n",
    "    constraints = [0 <= h, h <= 0.1, cp.sum(h) == 1]\n",
    "\n",
    "    ## print(constraints)\n",
    "\n",
    "    # Problem definition\n",
    "    problem = cp.Problem(cp.Maximize(utility), constraints)\n",
    "    \n",
    "    # Solve the problem.\n",
    "    problem.solve()\n",
    "    \n",
    "    # Return the optimized portfolio weights.\n",
    "    return h.value"
   ]
  },
  {
   "cell_type": "markdown",
   "metadata": {},
   "source": [
    "##### Question 3. (15 pts)"
   ]
  },
  {
   "cell_type": "markdown",
   "metadata": {},
   "source": [
    "Write a program called $\\texttt{frontier}$ that will:\n",
    "\n",
    "1. Load in your programming environment the data stored in the $\\texttt{inputs.ext}$;\n",
    "2. Create a sequence $\\texttt{TAU}$ containing numbers from zero to 0.5 in steps of 0.001;\n",
    "3. Run through a loop for each value of your $\\texttt{TAU}$ sequence to\n",
    "- Find the optimum portfolio with the given $\\texttt{mu}$, $\\texttt{Q}$, and $\\texttt{tau}$ selected from $\\texttt{TAU}$;\n",
    "- Compute the optimum portfolio’s expected return and standard deviation of return;\n",
    "- Store the portfolio return and standard deviation.\n",
    "4. After completing the loop, plot the efficient frontier."
   ]
  },
  {
   "cell_type": "code",
   "execution_count": 167,
   "metadata": {},
   "outputs": [],
   "source": [
    "import matplotlib.pyplot as plt\n",
    "\n",
    "def load_inputs(mu_path: str = 'inputs_mu.pkl', Q_path: str = 'inputs_Q.pkl') -> (np.ndarray, np.ndarray): # type: ignore\n",
    "    \"\"\"\n",
    "    Loads the mean returns vector and covariance matrix from the specified files.\n",
    "    \n",
    "    Parameters:\n",
    "    - mu_path (str): Path to the file containing the mean returns vector.\n",
    "    - Q_path (str): Path to the file containing the covariance matrix.\n",
    "    \n",
    "    Returns:\n",
    "    - tuple: A tuple containing the mean returns vector and the covariance matrix.\n",
    "    \"\"\"\n",
    "    mu = pd.read_pickle(mu_path).values\n",
    "    Q = pd.read_pickle(Q_path).values\n",
    "    return mu, Q\n",
    "\n",
    "def compute_metrics(mu: np.ndarray, Q: np.ndarray, h: np.ndarray) -> (float, float): # type: ignore\n",
    "    \"\"\"\n",
    "    Computes the expected return and standard deviation of the portfolio.\n",
    "    \n",
    "    Parameters:\n",
    "    - mu (np.ndarray): The mean return vector for the securities.\n",
    "    - Q (np.ndarray): The covariance matrix of the securities' returns.\n",
    "    - h (np.ndarray): The portfolio weights.\n",
    "    \n",
    "    Returns:\n",
    "    - tuple: A tuple containing the expected return and standard deviation of the portfolio.\n",
    "    \"\"\"\n",
    "    expected_return = np.dot(mu.T, h)\n",
    "    std_dev = np.sqrt(np.dot(h.T, np.dot(Q, h)))\n",
    "    return expected_return, std_dev    \n",
    "\n",
    "def frontier():\n",
    "    \"\"\"\n",
    "    Plots the efficient frontier by optimizing portfolios over a range of risk tolerance values using the `port` function.\n",
    "    Loads mean returns vector and covariance matrix, then calculates and plots the efficient frontier.\n",
    "    \"\"\"\n",
    "    # Load the mean returns vector and covariance matrix from saved files.\n",
    "    mu, Q = load_inputs()\n",
    "    TAU = np.arange(0, 0.501, 0.001)  # Range of risk tolerance values\n",
    "    returns = []  # List to store expected returns of optimized portfolios\n",
    "    std_devs = []  # List to store standard deviations of optimized portfolios\n",
    "\n",
    "    for tau in TAU:\n",
    "        # Use the previously defined port() function for portfolio optimization.\n",
    "        h_opt = port(mu, Q, tau)\n",
    "        # Compute expected return and standard deviation for the optimized portfolio.\n",
    "        ret, std = compute_metrics(mu, Q, h_opt)\n",
    "        # Store the results.\n",
    "        returns.append(ret)\n",
    "        std_devs.append(std)\n",
    "\n",
    "    # Plot the efficient frontier.\n",
    "    plt.figure(figsize=(10, 6))\n",
    "    plt.plot(std_devs, returns, 'o-', markersize=4)\n",
    "    plt.title('Efficient Frontier')\n",
    "    plt.xlabel('Standard Deviation of Portfolio Return')\n",
    "    plt.ylabel('Expected Portfolio Return')\n",
    "    plt.grid(True)\n",
    "    plt.show()"
   ]
  },
  {
   "cell_type": "code",
   "execution_count": 168,
   "metadata": {},
   "outputs": [
    {
     "data": {
      "image/png": "[encoded data removed]",
      "text/plain": [
       "<Figure size 1000x600 with 1 Axes>"
      ]
     },
     "metadata": {},
     "output_type": "display_data"
    }
   ],
   "source": [
    "frontier()"
   ]
  },
  {
   "cell_type": "markdown",
   "metadata": {},
   "source": [
    "The supplied $\\texttt{Midtermdata.zip}$ file contains an $\\bf{R}$ data file $\\texttt{data.rda}$ and a tab-delimited text file $\\texttt{data.tsv}$ containing the Dow-Jones Industrial Index and the closing prices for the 30 companies in that index for 250 trading days. **You will use that data for questions 4, 5 and 6.**"
   ]
  },
  {
   "cell_type": "markdown",
   "metadata": {},
   "source": [
    "##### Question 4. (15 pts)"
   ]
  },
  {
   "cell_type": "markdown",
   "metadata": {},
   "source": [
    "Write a program to:\n",
    "1. read in this Dow-Jones data,\n",
    "2. convert the matrix of daily prices to daily simple returns (not logarithmic returns),\n",
    "3. annualize the returns by multiplying them by 252 (the typical number of trading days in a year),\n",
    "4. move the index column out of the matrix and into a separate vector,\n",
    "5. compute a covariance matrix $\\texttt{Qts}$ based on the time-series of returns, and\n",
    "6. print out the first five rows and five columns of the covariance matrix.\n",
    "\n",
    "Clearly describe all steps in your program with comments. List your program in your answer document. No points will be awarded unless the steps associated with each part of the question are clearly distinguished. Also, submit the source code file."
   ]
  },
  {
   "cell_type": "markdown",
   "metadata": {},
   "source": [
    "##### *Step 1.*"
   ]
  },
  {
   "cell_type": "code",
   "execution_count": 169,
   "metadata": {},
   "outputs": [],
   "source": [
    "def read_data(file_path: str) -> pd.DataFrame:\n",
    "    \"\"\"\n",
    "    Reads the data from a CSV file into a pandas DataFrame, setting the correct DateTime index\n",
    "    and using the first row as column names.\n",
    "\n",
    "    Parameters:\n",
    "    - file_path (str): The path to the data file.\n",
    "\n",
    "    Returns:\n",
    "    - pd.DataFrame: A DataFrame with the correct dates as index and the stock tickers as column names.\n",
    "    \"\"\"\n",
    "    # Read the file.\n",
    "    data = pd.read_csv(file_path)\n",
    "\n",
    "    # Rename the first value to be 'Date'.\n",
    "    data.iloc[0, 0] = 'Date'\n",
    "\n",
    "    # Set the first row as the header.\n",
    "    data.columns = data.iloc[0]\n",
    "\n",
    "    # Drop the first row.\n",
    "    data = data.drop(data.index[0])\n",
    "\n",
    "    # Reset the index.\n",
    "    data = data.reset_index(drop=True)\n",
    "\n",
    "    # Convert numerical dates to string.\n",
    "    data['Date'] = data['Date'].astype(str)\n",
    "\n",
    "    # Remove the '.0' part (if it exists).\n",
    "    data['Date'] = data['Date'].str.replace(r'\\.0$', '', regex=True)\n",
    "\n",
    "    # Convert string dates to DateTime objects.\n",
    "    data['Date'] = pd.to_datetime(data['Date'], format='%Y%m%d')\n",
    "        \n",
    "    # Set the date column as the index.\n",
    "    data.set_index('Date', inplace=True)\n",
    "\n",
    "    # Ensure the data is numeric.\n",
    "    for col in data.columns[0:]:\n",
    "        data[col] = pd.to_numeric(data[col], errors='coerce')\n",
    "\n",
    "    return data"
   ]
  },
  {
   "cell_type": "markdown",
   "metadata": {},
   "source": [
    "##### *Step 2.*"
   ]
  },
  {
   "cell_type": "code",
   "execution_count": 170,
   "metadata": {},
   "outputs": [],
   "source": [
    "def calculate_simple_returns(prices: pd.DataFrame) -> pd.DataFrame:\n",
    "    \"\"\"\n",
    "    Converts a matrix of daily prices to daily simple returns.\n",
    "\n",
    "    Parameters:\n",
    "    - prices (pd.DataFrame): A DataFrame with daily prices.\n",
    "\n",
    "    Returns:\n",
    "    - pd.DataFrame: A DataFrame with daily simple returns.\n",
    "    \"\"\"\n",
    "    # Calculate daily simple returns.\n",
    "    returns = prices.pct_change().dropna()  # Drop the first row as the return for the first day is not defined.\n",
    "    return returns"
   ]
  },
  {
   "cell_type": "markdown",
   "metadata": {},
   "source": [
    "##### *Step 3.*"
   ]
  },
  {
   "cell_type": "code",
   "execution_count": 171,
   "metadata": {},
   "outputs": [],
   "source": [
    "def annualize_returns(returns: pd.DataFrame) -> pd.DataFrame:\n",
    "    \"\"\"\n",
    "    Annualizes the daily simple returns.\n",
    "\n",
    "    Parameters:\n",
    "    - returns (pd.DataFrame): A DataFrame with daily simple returns.\n",
    "\n",
    "    Returns:\n",
    "    - pd.DataFrame: A DataFrame with annualized returns.\n",
    "    \"\"\"\n",
    "    # Multiply by the number of trading days to annualize.\n",
    "    annual_returns = returns * 252\n",
    "    return annual_returns"
   ]
  },
  {
   "cell_type": "markdown",
   "metadata": {},
   "source": [
    "##### *Step 4.*"
   ]
  },
  {
   "cell_type": "code",
   "execution_count": 172,
   "metadata": {},
   "outputs": [],
   "source": [
    "from typing import Tuple\n",
    "\n",
    "def extract_index(data: pd.DataFrame) -> Tuple[pd.DataFrame, pd.Series]:\n",
    "    \"\"\"\n",
    "    Moves the index column out of the DataFrame into a separate vector.\n",
    "\n",
    "    Parameters:\n",
    "    - data (pd.DataFrame): A DataFrame with the index as one of the columns.\n",
    "\n",
    "    Returns:\n",
    "    - Tuple[pd.DataFrame, pd.Series]: A tuple of the DataFrame without the index column and the index column as a Series.\n",
    "    \"\"\"\n",
    "    # Assuming the index is the first column, we separate it from the data.\n",
    "    index_column = data.iloc[:, 0]\n",
    "    data_without_index = data.iloc[:, 1:]\n",
    "    return data_without_index, index_column"
   ]
  },
  {
   "cell_type": "markdown",
   "metadata": {},
   "source": [
    "##### *Step 5.*"
   ]
  },
  {
   "cell_type": "code",
   "execution_count": 173,
   "metadata": {},
   "outputs": [],
   "source": [
    "def compute_covariance_matrix(returns: pd.DataFrame) -> pd.DataFrame:\n",
    "    \"\"\"\n",
    "    Computes the covariance matrix based on the time-series of returns.\n",
    "\n",
    "    Parameters:\n",
    "    - returns (pd.DataFrame): A DataFrame with annualized returns.\n",
    "\n",
    "    Returns:\n",
    "    - pd.DataFrame: The covariance matrix of the returns.\n",
    "    \"\"\"\n",
    "    # Compute the covariance matrix.\n",
    "    Qts = returns.cov()\n",
    "    return Qts"
   ]
  },
  {
   "cell_type": "markdown",
   "metadata": {},
   "source": [
    "##### *Step 6.*"
   ]
  },
  {
   "cell_type": "code",
   "execution_count": 175,
   "metadata": {},
   "outputs": [
    {
     "name": "stdout",
     "output_type": "stream",
     "text": [
      "0          AAPL        AXP         BA        CAT       CSCO\n",
      "0                                                          \n",
      "AAPL  17.255424   5.189919   8.155240   7.535200   7.789729\n",
      "AXP    5.189919  11.842255   3.717910   5.042402   3.480634\n",
      "BA     8.155240   3.717910  11.618264   5.935137   6.465403\n",
      "CAT    7.535200   5.042402   5.935137  15.649550   6.247492\n",
      "CSCO   7.789729   3.480634   6.465403   6.247492  12.651489\n"
     ]
    }
   ],
   "source": [
    "# file_path = 'Midtermdata/data.tsv'\n",
    "file_path = 'Midtermdata/data.csv'\n",
    "\n",
    "# Step 1: Read in the data.\n",
    "data = read_data(file_path)\n",
    "\n",
    "# print(data.head())\n",
    "\n",
    "# Step 2 and 3: Convert to simple returns and annualize.\n",
    "daily_returns = calculate_simple_returns(data)\n",
    "annual_returns = annualize_returns(daily_returns)\n",
    "\n",
    "# print(annual_returns)\n",
    "\n",
    "# Step 4: Move the index column out of the matrix.\n",
    "annual_returns_modified = annual_returns.iloc[1:, 1:]\n",
    "\n",
    "# Step 5: Compute the covariance matrix.\n",
    "Qts = compute_covariance_matrix(annual_returns_modified)\n",
    "\n",
    "# Step 6: Print the first five rows and columns of the covariance matrix.\n",
    "print(Qts.iloc[:5, :5])"
   ]
  },
  {
   "cell_type": "markdown",
   "metadata": {},
   "source": [
    "##### Implementation in R"
   ]
  },
  {
   "cell_type": "markdown",
   "metadata": {},
   "source": [
    "The following section implements the same concepts as above but in R when it was difficult to parse the data in Python. \n",
    "\n",
    "However, **please use the Python results** as I was able to fix/debug the issues."
   ]
  },
  {
   "cell_type": "markdown",
   "metadata": {},
   "source": [
    "```r\n",
    "library(tidyverse)\n",
    "library(lubridate)\n",
    "\n",
    "# Function to read the data and set the first column as a DateTime index\n",
    "read_data <- function(file_path) {\n",
    "  # Read the data, assuming the first row is the header\n",
    "  data <- read.csv(file_path, header = TRUE)\n",
    "  \n",
    "  # Convert the first column to Date format assuming it's in 'YYYYMMDD' format\n",
    "  # Assuming the first column is named 'Date' or similar; adjust accordingly\n",
    "  data[,1] <- ymd(data[,1])\n",
    "  \n",
    "  # Set the first column as row names if needed or keep as a separate Date column\n",
    "  # Optionally, you can make the date column as row names (not always recommended for time series data in R)\n",
    "  # rownames(data) <- data[,1]\n",
    "  # data <- data[,-1]\n",
    "  \n",
    "  return(data)\n",
    "}\n",
    "\n",
    "# Function to calculate simple returns\n",
    "calculate_simple_returns <- function(prices) {\n",
    "  returns <- prices / lag(prices) - 1\n",
    "  returns <- na.omit(returns)  # Remove NA values resulted from lagging\n",
    "  return(returns)\n",
    "}\n",
    "\n",
    "# Function to annualize returns\n",
    "annualize_returns <- function(returns) {\n",
    "  annual_returns <- returns * 252\n",
    "  return(annual_returns)\n",
    "}\n",
    "\n",
    "# Function to compute the covariance matrix\n",
    "compute_covariance_matrix <- function(returns) {\n",
    "  Qts <- cov(returns)\n",
    "  return(Qts)\n",
    "}\n",
    "```"
   ]
  },
  {
   "cell_type": "markdown",
   "metadata": {},
   "source": [
    "##### Pre-Processing"
   ]
  },
  {
   "cell_type": "markdown",
   "metadata": {},
   "source": [
    "```r\n",
    "# Step 1: Read in the data\n",
    "file_path <- \"Midtermdata/data.csv\"\n",
    "\n",
    "# Read the CSV file, making sure the first row is used as column names.\n",
    "data <- read.csv(file_path, header = TRUE, check.names = FALSE)\n",
    "\n",
    "# Set the value in the first row, first column to \"Date\"\n",
    "data[1, 1] <- \"Date\"\n",
    "\n",
    "# Now, use the first row to set column names and remove the first row from the data\n",
    "colnames(data) <- as.character(unlist(data[1, ]))\n",
    "data <- data[-1, ]\n",
    "\n",
    "# Assuming 'data' is your dataframe and 'Date' is the column with dates in YYYYMMDD format\n",
    "data$Date <- as.Date(as.character(data$Date), format=\"%Y%m%d\")\n",
    "\n",
    "# Assuming the first column is the date, and the rest are the prices\n",
    "data[,-1] <- sapply(data[,-1], as.numeric)\n",
    "\n",
    "head(data)\n",
    "```\n"
   ]
  },
  {
   "cell_type": "markdown",
   "metadata": {},
   "source": [
    "```r\n",
    "# dates <- data[[1]] # Extract the first column as dates\n",
    "# prices <- data[-1] # Remove the first column from the data\n",
    "# \n",
    "# # Convert the first column to dates if it's not already\n",
    "# dates <- as.Date(as.character(dates), format=\"%Y%m%d\")\n",
    "\n",
    "# Step 2: Calculate daily returns.\n",
    "daily_returns <- data[, -1] / lag(data[, -1]) - 1\n",
    "daily_returns <- daily_returns[-1, ]  # Remove the first row which will be NA.\n",
    "\n",
    "print(head(daily_returns))\n",
    "\n",
    "# Step 3: Annualize the daily returns.\n",
    "annual_returns <- apply(daily_returns, 2, mean, na.rm = TRUE) * 252\n",
    "\n",
    "print(annual_returns)\n",
    "\n",
    "# Step 4: Extract the index column.\n",
    "## Already did in pre-processing.\n",
    "\n",
    "# Step 5: Compute the covariance matrix of daily returns.\n",
    "Qts <- cov(daily_returns, use = \"pairwise.complete.obs\")\n",
    "\n",
    "# Step 6: Print out the first five rows and columns of the covariance matrix.\n",
    "print(Qts[1:5, 1:5])\n",
    "```"
   ]
  },
  {
   "cell_type": "markdown",
   "metadata": {},
   "source": [
    "##### Question 5. (20 pts)"
   ]
  },
  {
   "cell_type": "markdown",
   "metadata": {},
   "source": [
    "Given $n$ securities $S_i, (i = 1, \\dots, 30),$ the single index model for their securities’ returns is given by $$r_i = \\alpha_i + \\beta_i r_M + \\epsilon_i$$ where $r_M$ is the return of the Index (here the Dow Jones), $\\epsilon_i$ is a random variable specific to Security $S_i$ satisfies $$\\mathbb{E}[\\epsilon_i] = 0, \\; cov(\\epsilon_i, r_M) = 0, \\; \\text{if} \\; i \\neq j.$$\n",
    "\n",
    "Under that model, we have the securities Expected Returns $\\mu_i = \\alpha_i + \\beta_i \\mu_M$ where $\\mu_M$ is the Expected\n",
    "Return of the Index. The securities variance and covariances are specified by\n",
    "\n",
    "$$\\sigma_i^2 = \\beta_i^2 \\sigma_M^2 + \\sigma_{R_i}^2 \\; \\text{and} \\; \\sigma_{ij} = \\beta_i \\beta_j \\sigma_M^2 \\; \\text{when} \\; i \\neq j$$\n",
    "\n",
    "where $\\sigma^2_M$ is the variance of the Index, and $\\sigma^2_{R_i}$ is the variance of the residual $\\epsilon_i$ for security $S_i$."
   ]
  },
  {
   "cell_type": "markdown",
   "metadata": {},
   "source": [
    "Write a program utilizing the Dow-Jones data that:\n",
    "1. uses a loop to regress each company’s returns onto the index return,\n",
    "2. prints a table of intercepts, slopes ($\\beta_i$), and idiosyncratic standard deviations $\\sigma_{R_i}$ (standard deviation of the residuals) for all companies $i = 1, \\dots, 30$,\n",
    "3. computes and prints the variance of the index’s return,\n",
    "4. computes the single-index approximation to the covariance matrix, $\\texttt{Qsi}$ using your computed $\\sigma^2_M$, $\\beta_i$, and $\\sigma^2_{R_i}$, for all $i$, and\n",
    "5. prints the first five rows and columns of this covariance matrix.\n",
    "\n",
    "Clearly describe all steps in your program with comments. List your program in your answer document. No points will be awarded unless the steps associated with each part of the question are clearly distinguished. Also, submit the source code file."
   ]
  },
  {
   "cell_type": "code",
   "execution_count": 186,
   "metadata": {},
   "outputs": [
    {
     "name": "stdout",
     "output_type": "stream",
     "text": [
      "Intercepts, Betas, and Idiosyncratic Standard Deviations:\n",
      "      Intercept      Beta   Sigma_R\n",
      "AAPL   0.000268  1.138782  0.012475\n",
      "AXP   -0.000719  0.853526  0.011009\n",
      "BA     0.000697  1.019695  0.009490\n",
      "CAT   -0.001290  1.063530  0.012045\n",
      "CSCO   0.000750  1.060068  0.009936\n",
      "CVX   -0.001031  1.148306  0.012780\n",
      "DD    -0.000181  1.020580  0.011313\n",
      "DIS    0.000940  0.917125  0.010339\n",
      "GE     0.000601  1.065219  0.009995\n",
      "GS    -0.000071  1.165276  0.006910\n",
      "HD     0.001003  1.015542  0.007833\n",
      "IBM   -0.000517  1.050286  0.008685\n",
      "INTC   0.000126  0.999549  0.012832\n",
      "JNJ   -0.000219  0.854040  0.006560\n",
      "JPM    0.000263  1.204165  0.007180\n",
      "KO     0.000197  0.662824  0.006618\n",
      "MCD    0.000802  0.930011  0.009012\n",
      "MMM    0.000116  0.963949  0.006070\n",
      "MRK   -0.000208  0.953009  0.010229\n",
      "MSFT   0.000630  1.243621  0.013432\n",
      "NKE    0.001375  0.982035  0.009613\n",
      "PFE    0.000620  0.885675  0.008155\n",
      "PG    -0.000416  0.766293  0.006506\n",
      "TRV    0.000483  0.873620  0.006558\n",
      "UNH    0.000886  1.031037  0.011808\n",
      "UTX   -0.000240  0.977089  0.008357\n",
      "V      0.001430  1.118423  0.010289\n",
      "VZ    -0.000194  0.748745  0.007216\n",
      "WMT   -0.001070  0.775067  0.010807\n",
      "XOM   -0.000593  1.051269  0.009551\n",
      "\n",
      "Variance of the Index's Return: 8.83749785920134e-05\n",
      "\n",
      "Single-Index Approximation Covariance Matrix (First 5 Rows and Columns):\n",
      "0         AAPL       AXP        BA       CAT      CSCO\n",
      "0                                                     \n",
      "AAPL   0.00027  0.000086  0.000103  0.000107  0.000107\n",
      "AXP   0.000086  0.000186  0.000077   0.00008   0.00008\n",
      "BA    0.000103  0.000077  0.000182  0.000096  0.000096\n",
      "CAT   0.000107   0.00008  0.000096  0.000245    0.0001\n",
      "CSCO  0.000107   0.00008  0.000096    0.0001  0.000198\n"
     ]
    }
   ],
   "source": [
    "import statsmodels.api as sm\n",
    "\n",
    "def perform_regression(index_returns: pd.Series, security_returns: pd.Series) -> Tuple[float, float, float]:\n",
    "    \"\"\"\n",
    "    Performs linear regression of security returns on index returns.\n",
    "\n",
    "    Parameters:\n",
    "    - index_returns (pd.Series): Daily returns of the index.\n",
    "    - security_returns (pd.Series): Daily returns of a security.\n",
    "\n",
    "    Returns:\n",
    "    - Tuple[float, float, float]: Intercept (alpha), slope (beta), and standard deviation of residuals (sigma_r).\n",
    "    \"\"\"\n",
    "    X = sm.add_constant(index_returns)  # Add a constant to include intercept in the model.\n",
    "    model = sm.OLS(security_returns, X).fit()\n",
    "    return model.params[0], model.params[1], model.resid.std()\n",
    "\n",
    "def analyze_data(file_path: str) -> pd.DataFrame:\n",
    "    \"\"\"\n",
    "    Analyzes Dow-Jones data to compute and print statistical measures.\n",
    "\n",
    "    Performs regressions of each company's returns onto the index return,\n",
    "    prints intercepts, slopes, idiosyncratic standard deviations, variance of the index,\n",
    "    and part of the covariance matrix.\n",
    "\n",
    "    Parameters:\n",
    "    - file_path (str): Path to the CSV file containing the Dow-Jones data.\n",
    "    \"\"\"\n",
    "    data = read_data(file_path)\n",
    "    # print(data.head())\n",
    "\n",
    "    daily_returns = calculate_simple_returns(data)\n",
    "    # print(daily_returns.head())\n",
    "\n",
    "    index_returns = daily_returns['^DJI']\n",
    "    # print(index_returns)\n",
    "\n",
    "    results = pd.DataFrame(columns=['Intercept', 'Beta', 'Sigma_R'])\n",
    "\n",
    "    # Loop through securities and regress each against the index.\n",
    "    for column in daily_returns.columns[1:]:  # Skip Dow Jones column\n",
    "        alpha, beta, sigma_r = perform_regression(index_returns, daily_returns[column])\n",
    "        results.loc[column] = [alpha, beta, sigma_r]\n",
    "\n",
    "    print(\"Intercepts, Betas, and Idiosyncratic Standard Deviations:\")\n",
    "    print(results)\n",
    "\n",
    "    sigma_M_squared = np.var(index_returns)\n",
    "    print(f\"\\nVariance of the Index's Return: {sigma_M_squared}\")\n",
    "\n",
    "    ## Compute single-index approximation to the covariance matrix: \n",
    "\n",
    "    # Create an empty DataFrame to store the covariance matrix Qsi.\n",
    "    Qsi = pd.DataFrame(index=daily_returns.columns[1:], columns=daily_returns.columns[1:])\n",
    "\n",
    "    for i in range(len(Qsi)):\n",
    "        for j in range(len(Qsi.columns)):\n",
    "            if i == j:\n",
    "                Qsi.iloc[i, j] = results['Beta'].iloc[i] ** 2 * sigma_M_squared + results['Sigma_R'].iloc[i] ** 2\n",
    "            else:\n",
    "                Qsi.iloc[i, j] = results['Beta'].iloc[i] * results['Beta'].iloc[j] * sigma_M_squared\n",
    "\n",
    "    print(\"\\nSingle-Index Approximation Covariance Matrix (First 5 Rows and Columns):\")\n",
    "    print(Qsi.iloc[:5, :5])\n",
    "\n",
    "    return Qsi\n",
    "\n",
    "Qsi = analyze_data(file_path)"
   ]
  },
  {
   "cell_type": "markdown",
   "metadata": {},
   "source": [
    "##### Implementation in R"
   ]
  },
  {
   "cell_type": "markdown",
   "metadata": {},
   "source": [
    "Below is the implementation in R, which I advise you to **not consider** as that was before I could fix the Python bugs. **Please use the Python results.**"
   ]
  },
  {
   "cell_type": "markdown",
   "metadata": {},
   "source": [
    "```r\n",
    "# 0. Pre-process the Data: Already done, moving to regression\n",
    "\n",
    "# Step 1. Conduct the regressional analysis\n",
    "results <- list() # To store regression results\n",
    "\n",
    "for(i in 3:ncol(data)){\n",
    "  # Using backticks to handle special characters in column names\n",
    "  formula <- as.formula(paste(\"`\", colnames(data)[i], \"` ~ `\", colnames(data)[2], \"`\", sep = \"\"))\n",
    "  reg <- lm(formula, data = data)\n",
    "  alpha_i <- coef(reg)[1] # Intercept\n",
    "  beta_i <- coef(reg)[2] # Slope\n",
    "  sigma_R_i <- sd(residuals(reg)) # Standard deviation of residuals\n",
    "  results[[colnames(data)[i]]] <- c(alpha_i, beta_i, sigma_R_i)\n",
    "}\n",
    "\n",
    "# Step 2. Creating a data frame from the results list for better visualization\n",
    "results_df <- do.call(rbind, results)\n",
    "colnames(results_df) <- c(\"Intercept\", \"Beta\", \"Sigma_R\")\n",
    "rownames(results_df) <- names(results)\n",
    "\n",
    "print(results_df)\n",
    "\n",
    "# Convert results_df into a data frame.\n",
    "results_df <- as.data.frame(results_df)\n",
    "\n",
    "# Step 2. Printing the results table\n",
    "print(results_df)\n",
    "\n",
    "# Step 3: Compute and print the variance of the index's return\n",
    "sigma_M_squared <- var(data[,2]) # Assuming the 2nd column is the DJI\n",
    "print(sigma_M_squared)\n",
    "\n",
    "# Step 4. Compute the covariance matrix: Using formula sigma^2_M * Beta_i * Beta_j + delta_ij * sigma^2_Ri\n",
    "## Here, delta_ij is the Kronecker delta, which is 1 if i = j and 0 otherwise\n",
    "Qsi <- matrix(nrow=30, ncol=30)\n",
    "\n",
    "for(i in 1:nrow(results_df)){\n",
    "  for(j in 1:nrow(results_df)){\n",
    "    if(i == j){\n",
    "      # Diagonal elements represent the variance for each security\n",
    "      Qsi[i,j] <- sigma_M_squared * (results_df$Beta[i]^2) + (results_df$Sigma_R[i]^2)\n",
    "    } else {\n",
    "      # Off-diagonal elements represent the covariances between securities\n",
    "      Qsi[i,j] <- sigma_M_squared * results_df$Beta[i] * results_df$Beta[j]\n",
    "    }\n",
    "  }\n",
    "}\n",
    "\n",
    "# 5. Print the first five rows and columns of the covariance matrix.\n",
    "print(Qsi[1:5, 1:5])\n",
    "```"
   ]
  },
  {
   "cell_type": "markdown",
   "metadata": {},
   "source": [
    "##### Question 6. (20 pts)"
   ]
  },
  {
   "cell_type": "markdown",
   "metadata": {},
   "source": [
    "With your function $\\texttt{port}$ from the Question 2:\n",
    "\n",
    "1. Use the set of input parameters $\\texttt{mu}$ (mean vector $\\mu$), $\\texttt{Qts}$ (covariance matrix $Q$ computed with a time series approximation), and $\\texttt{tau}$ (risk tolerance $\\tau$) to compute the efficient frontier corresponding to the maximization of utility function $U$ defined by $$U(h) = -\\frac{1}{2} h^T Q h + \\tau h^T \\mu$$ subject to the constraints $$0 \\leq h_i \\leq 0.1 \\; \\text{for all} \\; i, \\; \\text{and}$$ $$\\sum_{i = 1}^n h^T e = 1$$ where $n$ is the number of securities in the portfolio. Be  sure to include all constraints; both equality and inequality constraints.\n",
    "2. Repeat the computation of the efficient frontier but now use the approximate covariance matrix $\\texttt{Qsi}$ from the single index model instead of the time-series model $\\texttt{Qts}$.\n",
    "3. Plot the efficient frontier using the time-series approximation to $\\texttt{Qts}$ in blue, and superimpose the efficient frontier computed with the single index covariance model $\\texttt{Qsi}$ in red. Do you think the results are similar enough that the single-index covariance model is valid?\n",
    "\n",
    "Clearly describe all steps in your program with comments. List your program in your answer document. No points will be awarded unless the steps associated with each part of the question are clearly distinguished. Also, submit the source code file."
   ]
  },
  {
   "cell_type": "markdown",
   "metadata": {},
   "source": [
    "##### *Step 1.*"
   ]
  },
  {
   "cell_type": "code",
   "execution_count": 194,
   "metadata": {},
   "outputs": [
    {
     "data": {
      "image/png": "[encoded data removed]",
      "text/plain": [
       "<Figure size 1000x600 with 1 Axes>"
      ]
     },
     "metadata": {},
     "output_type": "display_data"
    }
   ],
   "source": [
    "def frontier_g(mu: np.ndarray, Q: np.ndarray, tau_range: np.ndarray, color: str) -> None:\n",
    "    \"\"\"\n",
    "    Plots the efficient frontier by optimizing portfolios over a range of risk tolerance values using the `port` function.\n",
    "    Loads mean returns vector and covariance matrix, then calculates and plots the efficient frontier.\n",
    "    \"\"\"\n",
    "    returns = []  # List to store expected returns of optimized portfolios\n",
    "    std_devs = []  # List to store standard deviations of optimized portfolios\n",
    "\n",
    "    for tau in tau_range:\n",
    "        # Use the previously defined port() function for portfolio optimization.\n",
    "        h_opt = port(mu, Q, tau)\n",
    "        # Compute expected return and standard deviation for the optimized portfolio.\n",
    "        ret, std = compute_metrics(mu, Q, h_opt)\n",
    "        # Store the results.\n",
    "        returns.append(ret)\n",
    "        std_devs.append(std)\n",
    "\n",
    "    # Plot the efficient frontier.\n",
    "    plt.figure(figsize=(10, 6))\n",
    "    plt.plot(std_devs, returns, 'o-', markersize=4, color = color)\n",
    "    plt.title('Efficient Frontier')\n",
    "    plt.xlabel('Standard Deviation of Portfolio Return')\n",
    "    plt.ylabel('Expected Portfolio Return')\n",
    "    plt.grid(True)\n",
    "    plt.show()\n",
    "\n",
    "# Load the mean returns vector from the saved .pkl file.\n",
    "mu = load_inputs()[0]\n",
    "tau_range = np.arange(0, 0.501, 0.001)  # Range of risk tolerance values\n",
    "\n",
    "# Step 1: Plot the efficient frontier for Qts or time series approximation for covariance matrix.\n",
    "frontier_g(mu, Qts, tau_range, color = 'blue')"
   ]
  },
  {
   "cell_type": "code",
   "execution_count": 195,
   "metadata": {},
   "outputs": [],
   "source": [
    "# Step 2: Plot the efficient frontier Qsi or single index model for covariance matrix (in red).\n",
    "frontier_g(mu, Qsi, tau_range, color='red')"
   ]
  }
 ],
 "metadata": {
  "kernelspec": {
   "display_name": "Python 3",
   "language": "python",
   "name": "python3"
  },
  "language_info": {
   "codemirror_mode": {
    "name": "ipython",
    "version": 3
   },
   "file_extension": ".py",
   "mimetype": "text/x-python",
   "name": "python",
   "nbconvert_exporter": "python",
   "pygments_lexer": "ipython3",
   "version": "3.11.5"
  }
 },
 "nbformat": 4,
 "nbformat_minor": 2
}
