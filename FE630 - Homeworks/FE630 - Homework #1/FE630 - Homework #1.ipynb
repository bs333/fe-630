{
 "cells": [
  {
   "cell_type": "markdown",
   "metadata": {},
   "source": [
    "### FE630 - Homework #1"
   ]
  },
  {
   "cell_type": "markdown",
   "metadata": {},
   "source": [
    "**Author**: Sid Bhatia\n",
    "\n",
    "**Date**: March 3rd, 2023\n",
    "\n",
    "**Pledge**: I pledge my honor that I have abided by the Stevens Honor System.\n",
    "\n",
    "**Professor**: Papa Momar Ndiaye"
   ]
  },
  {
   "cell_type": "markdown",
   "metadata": {},
   "source": [
    "#### Problem #1 - Utility Functions"
   ]
  },
  {
   "cell_type": "markdown",
   "metadata": {},
   "source": [
    "##### 1. Log Utility"
   ]
  },
  {
   "cell_type": "markdown",
   "metadata": {},
   "source": [
    "a. **Certainty Equivalent and Risk Premium**\n",
    "\n",
    "An investor whose initial wealth is \\$1000 is offered an opportunity to play a fair game with 2 possible outcomes: winning $350 with a probability of 1/3 or losing $150 with a probability of 2/3. The investor utility function is the natural logarithm of his wealth, $u(W) = \\ln(W)$.\n",
    "\n",
    "- What is the Certainty Equivalent of this risky game?\n",
    "- What is the exact Risk Premium of this risky game?\n",
    "- How good is the approximation obtained by using a Taylor series expansion?"
   ]
  },
  {
   "cell_type": "markdown",
   "metadata": {},
   "source": [
    "First, let's define some terms: \n",
    "- **Certainty Equivalent (CE)**: The guaranteed amount of money that an investor considers equivalent to a risky gamble. It's the amount where the investor is indifferent between the certain payment and the risky gamble.\n",
    "- **Risk Premium (RP)**: The difference between the expected return of the risky gamble and the certainty equivalent. It represents the extra amount an investor needs to be willing to participate in the risky gamble.\n",
    "- **Utility Function**: In this case, $u(W) = \\ln(W)$, where $W$ is wealth. This function represents the investor's satisfaction or utility with different levels of wealth.\n",
    "\n",
    "Given:\n",
    "- Initial wealth, $W_0 = \\$1000$\n",
    "- Win amount, $W_{ \\text{win} } = \\$350$ with probability $p_{\\text{win}} = \\frac{1}{3}$\n",
    "- Loss amount, $W_{ \\text{loss} } = -\\$150$ with probability $p_{\\text{loss}} = \\frac{2}{3}$\n",
    "\n",
    "We can calculate the expected utility of the gamble, find the certainty equivalent by equating the expected utility to the utility of the certainty equivalent, and then calculate the risk premium. Additionally, we'll use a Taylor series expansion around the initial wealth to approximate the expected utility and compare it.\n",
    "\n",
    "As such, we will do the following steps:\n",
    "1. Calculate the *expected utility* of the game.\n",
    "2. Find the *certainty equivalent (CE)* by setting the expected utility equal to the utility of the CE and solving for CE.\n",
    "3. Calculate the *risk premium* as the difference between the expected wealth and the certainty equivalent.\n",
    "4. Compare the *exact expected utility* to the approximation obtained by using a *Taylor series expansion* around the initial wealth."
   ]
  },
  {
   "cell_type": "code",
   "execution_count": 6,
   "metadata": {},
   "outputs": [
    {
     "name": "stdout",
     "output_type": "stream",
     "text": [
      "Certainty Equivalent: -8.28\n",
      "Risk Premium: 24.94\n",
      "Expected Utility: 6.8994\n"
     ]
    }
   ],
   "source": [
    "import numpy as np\n",
    "from scipy.optimize import fsolve\n",
    "from typing import Callable\n",
    "\n",
    "def utility(W: float) -> float:\n",
    "    \"\"\"\n",
    "    Calculate the utility of wealth using a natural logarithm.\n",
    "\n",
    "    Parameters:\n",
    "    - W (float): Wealth.\n",
    "\n",
    "    Returns:\n",
    "    - float: Utility of the wealth.\n",
    "    \"\"\"\n",
    "    return np.log(W)\n",
    "\n",
    "def expected_utility(W0: float, W_win: float, W_lose: float, p_win: float, p_lose: float) -> float:\n",
    "    \"\"\"\n",
    "    Calculate the expected utility of a gamble with given outcomes and probabilities.\n",
    "\n",
    "    Parameters:\n",
    "    - W0 (float): Initial wealth.\n",
    "    - W_win (float): Winning amount.\n",
    "    - W_lose (float): Losing amount.\n",
    "    - p_win (float): Probability of winning.\n",
    "    - p_lose (float): Probability of losing.\n",
    "\n",
    "    Returns:\n",
    "    - float: Expected utility of the gamble.\n",
    "    \"\"\"\n",
    "    return p_win * utility(W0 + W_win) + p_lose * utility(W0 + W_lose)\n",
    "\n",
    "def find_certainty_equivalent(EU: float, W0: float) -> float:\n",
    "    \"\"\"\n",
    "    Find the certainty equivalent of a gamble based on its expected utility.\n",
    "\n",
    "    Parameters:\n",
    "    - EU (float): Expected utility of the gamble.\n",
    "    - W0 (float): Initial wealth.\n",
    "\n",
    "    Returns:\n",
    "    - float: Certainty equivalent of the gamble.\n",
    "    \"\"\"\n",
    "    func = lambda CE: utility(W0 + CE) - EU\n",
    "    CE, = fsolve(func, 0)  # Initial guess for CE is 0.\n",
    "    return CE\n",
    "\n",
    "def calculate_risk_premium(E_W: float, W0: float, CE: float) -> float:\n",
    "    \"\"\"\n",
    "    Calculate the risk premium of the gamble.\n",
    "\n",
    "    Parameters:\n",
    "    - E_W (float): Expected wealth from the gamble.\n",
    "    - W0 (float): Initial wealth.\n",
    "    - CE (float): Certainty equivalent of the gamble.\n",
    "\n",
    "    Returns:\n",
    "    - float: Risk premium of the gamble.\n",
    "    \"\"\"\n",
    "    return E_W - (W0 + CE)\n",
    "\n",
    "def taylor_series_expansion(u_prime: float, u_double_prime: float, delta_W: float) -> float:\n",
    "    \"\"\"\n",
    "    Approximates the expected utility using Taylor series expansion.\n",
    "    \n",
    "    Parameters:\n",
    "    - u_prime: First derivative of the utility function at initial wealth.\n",
    "    - u_double_prime: Second derivative of the utility function at initial wealth.\n",
    "    - delta_W: Change in wealth.\n",
    "    \n",
    "    Returns:\n",
    "    - Taylor series approximation of expected utility.\n",
    "    \"\"\"\n",
    "    return u_prime * delta_W + 0.5 * u_double_prime * (delta_W**2)\n",
    "\n",
    "# Given values\n",
    "W0 = 1000\n",
    "W_win = 350\n",
    "W_lose = -150\n",
    "p_win = 1/3\n",
    "p_lose = 2/3\n",
    "\n",
    "# Calculate expected utility of the gamble.\n",
    "EU = expected_utility(W0, W_win, W_lose, p_win, p_lose)\n",
    "\n",
    "# Solve for the certainty equivalent.\n",
    "CE = find_certainty_equivalent(EU, W0)\n",
    "\n",
    "# Calculate expected wealth from the game.\n",
    "E_W = W0 + p_win * W_win + p_lose * W_lose\n",
    "\n",
    "# Calculate the risk premium.\n",
    "RP = calculate_risk_premium(E_W, W0, CE)\n",
    "\n",
    "# Display results.\n",
    "print(f\"Certainty Equivalent: {CE:.2f}\")\n",
    "print(f\"Risk Premium: {RP:.2f}\")\n",
    "print(f\"Expected Utility: {EU:.4f}\")"
   ]
  }
 ],
 "metadata": {
  "kernelspec": {
   "display_name": "Python 3",
   "language": "python",
   "name": "python3"
  },
  "language_info": {
   "codemirror_mode": {
    "name": "ipython",
    "version": 3
   },
   "file_extension": ".py",
   "mimetype": "text/x-python",
   "name": "python",
   "nbconvert_exporter": "python",
   "pygments_lexer": "ipython3",
   "version": "3.11.5"
  }
 },
 "nbformat": 4,
 "nbformat_minor": 2
}
