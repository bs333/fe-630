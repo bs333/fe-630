{
 "cells": [
  {
   "cell_type": "markdown",
   "metadata": {},
   "source": [
    "### FE630 - Homework #1"
   ]
  },
  {
   "cell_type": "markdown",
   "metadata": {},
   "source": [
    "**Author**: Sid Bhatia\n",
    "\n",
    "**Date**: March 3rd, 2023\n",
    "\n",
    "**Pledge**: I pledge my honor that I have abided by the Stevens Honor System.\n",
    "\n",
    "**Professor**: Papa Momar Ndiaye"
   ]
  },
  {
   "cell_type": "markdown",
   "metadata": {},
   "source": [
    "#### Problem #1 - Utility Functions"
   ]
  },
  {
   "cell_type": "markdown",
   "metadata": {},
   "source": [
    "##### 1. Log Utility"
   ]
  },
  {
   "cell_type": "markdown",
   "metadata": {},
   "source": [
    "a. **Certainty Equivalent and Risk Premium**\n",
    "\n",
    "An investor whose initial wealth is \\$1000 is offered an opportunity to play a fair game with 2 possible outcomes: winning $350 with a probability of 1/3 or losing $150 with a probability of 2/3. The investor utility function is the natural logarithm of his wealth, $u(W) = \\ln(W)$.\n",
    "\n",
    "- What is the Certainty Equivalent of this risky game?\n",
    "- What is the exact Risk Premium of this risky game?\n",
    "- How good is the approximation obtained by using a Taylor series expansion?"
   ]
  },
  {
   "cell_type": "markdown",
   "metadata": {},
   "source": [
    "First, let's define some terms: \n",
    "- **Certainty Equivalent (CE)**: The guaranteed amount of money that an investor considers equivalent to a risky gamble. It's the amount where the investor is indifferent between the certain payment and the risky gamble.\n",
    "- **Risk Premium (RP)**: The difference between the expected return of the risky gamble and the certainty equivalent. It represents the extra amount an investor needs to be willing to participate in the risky gamble.\n",
    "- **Utility Function**: In this case, $u(W) = \\ln(W)$, where $W$ is wealth. This function represents the investor's satisfaction or utility with different levels of wealth.\n",
    "\n",
    "Given:\n",
    "- Initial wealth, $W_0 = \\$1000$\n",
    "- Win amount, $W_{ \\text{win} } = \\$350$ with probability $p_{\\text{win}} = \\frac{1}{3}$\n",
    "- Loss amount, $W_{ \\text{loss} } = -\\$150$ with probability $p_{\\text{loss}} = \\frac{2}{3}$"
   ]
  }
 ],
 "metadata": {
  "language_info": {
   "name": "python"
  }
 },
 "nbformat": 4,
 "nbformat_minor": 2
}
