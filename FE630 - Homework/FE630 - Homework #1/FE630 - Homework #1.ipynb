{
 "cells": [
  {
   "cell_type": "markdown",
   "metadata": {},
   "source": [
    "### FE630 - Homework #1"
   ]
  },
  {
   "cell_type": "markdown",
   "metadata": {},
   "source": [
    "**Author**: Sid Bhatia\n",
    "\n",
    "**Date**: March 3rd, 2023\n",
    "\n",
    "**Pledge**: I pledge my honor that I have abided by the Stevens Honor System.\n",
    "\n",
    "**Professor**: Papa Momar Ndiaye"
   ]
  },
  {
   "cell_type": "markdown",
   "metadata": {},
   "source": [
    "#### Problem #1 - Utility Functions"
   ]
  },
  {
   "cell_type": "markdown",
   "metadata": {},
   "source": [
    "##### 1. Log Utility (15 pts)"
   ]
  },
  {
   "cell_type": "markdown",
   "metadata": {},
   "source": [
    "a. **Certainty Equivalent and Risk Premium**\n",
    "\n",
    "An investor whose initial wealth is $\\$1000$ is offered an opportunity to play a fair game with 2 possible outcomes: winning $\\$350$ with a probability of $1/3$ or losing $\\$150$ with a probability of $2/3$. The investor utility function is the natural logarithm of his wealth, $u(W) = \\ln(W)$.\n",
    "\n",
    "- What is the Certainty Equivalent of this risky game?\n",
    "- What is the exact Risk Premium of this risky game?\n",
    "- How good is the approximation obtained by using a Taylor series expansion?"
   ]
  },
  {
   "cell_type": "markdown",
   "metadata": {},
   "source": [
    "First, let's define some terms: \n",
    "- **Certainty Equivalent (CE)**: The guaranteed amount of money that an investor considers equivalent to a risky gamble. It's the amount where the investor is indifferent between the certain payment and the risky gamble.\n",
    "- **Risk Premium (RP)**: The difference between the expected return of the risky gamble and the certainty equivalent. It represents the extra amount an investor needs to be willing to participate in the risky gamble.\n",
    "- **Utility Function**: In this case, $u(W) = \\ln(W)$, where $W$ is wealth. This function represents the investor's satisfaction or utility with different levels of wealth.\n",
    "\n",
    "Given:\n",
    "- Initial wealth, $W_0 = \\$1000$\n",
    "- Win amount, $W_{ \\text{win} } = \\$350$ with probability $p_{\\text{win}} = \\frac{1}{3}$\n",
    "- Loss amount, $W_{ \\text{loss} } = -\\$150$ with probability $p_{\\text{loss}} = \\frac{2}{3}$\n",
    "\n",
    "We can calculate the expected utility of the gamble, find the certainty equivalent by equating the expected utility to the utility of the certainty equivalent, and then calculate the risk premium. Additionally, we'll use a Taylor series expansion around the initial wealth to approximate the expected utility and compare it.\n",
    "\n",
    "As such, we will do the following steps:\n",
    "1. Calculate the *expected utility* of the game.\n",
    "2. Find the *certainty equivalent (CE)* by setting the expected utility equal to the utility of the CE and solving for CE.\n",
    "3. Calculate the *risk premium* as the difference between the expected wealth and the certainty equivalent.\n",
    "4. Compare the *exact expected utility* to the approximation obtained by using a *Taylor series expansion* around the initial wealth."
   ]
  },
  {
   "cell_type": "code",
   "execution_count": 8,
   "metadata": {},
   "outputs": [
    {
     "name": "stdout",
     "output_type": "stream",
     "text": [
      "Certainty Equivalent: -8.28\n",
      "Risk Premium: 24.94\n",
      "Expected Utility: 6.8994\n",
      "Taylor Series Expected Utility Approximation: 6.9243\n"
     ]
    }
   ],
   "source": [
    "import numpy as np\n",
    "from scipy.optimize import fsolve\n",
    "from typing import Callable\n",
    "\n",
    "def utility(W: float) -> float:\n",
    "    \"\"\"\n",
    "    Calculate the utility of wealth using a natural logarithm.\n",
    "\n",
    "    Parameters:\n",
    "    - W (float): Wealth.\n",
    "\n",
    "    Returns:\n",
    "    - float: Utility of the wealth.\n",
    "    \"\"\"\n",
    "    return np.log(W)\n",
    "\n",
    "def expected_utility(W0: float, W_win: float, W_lose: float, p_win: float, p_lose: float) -> float:\n",
    "    \"\"\"\n",
    "    Calculate the expected utility of a gamble with given outcomes and probabilities.\n",
    "\n",
    "    Parameters:\n",
    "    - W0 (float): Initial wealth.\n",
    "    - W_win (float): Winning amount.\n",
    "    - W_lose (float): Losing amount.\n",
    "    - p_win (float): Probability of winning.\n",
    "    - p_lose (float): Probability of losing.\n",
    "\n",
    "    Returns:\n",
    "    - float: Expected utility of the gamble.\n",
    "    \"\"\"\n",
    "    return p_win * utility(W0 + W_win) + p_lose * utility(W0 + W_lose)\n",
    "\n",
    "def find_certainty_equivalent(EU: float, W0: float) -> float:\n",
    "    \"\"\"\n",
    "    Find the certainty equivalent of a gamble based on its expected utility.\n",
    "\n",
    "    Parameters:\n",
    "    - EU (float): Expected utility of the gamble.\n",
    "    - W0 (float): Initial wealth.\n",
    "\n",
    "    Returns:\n",
    "    - float: Certainty equivalent of the gamble.\n",
    "    \"\"\"\n",
    "    func = lambda CE: utility(W0 + CE) - EU\n",
    "    CE, = fsolve(func, 0)  # Initial guess for CE is 0.\n",
    "    return CE\n",
    "\n",
    "def calculate_risk_premium(E_W: float, W0: float, CE: float) -> float:\n",
    "    \"\"\"\n",
    "    Calculate the risk premium of the gamble.\n",
    "\n",
    "    Parameters:\n",
    "    - E_W (float): Expected wealth from the gamble.\n",
    "    - W0 (float): Initial wealth.\n",
    "    - CE (float): Certainty equivalent of the gamble.\n",
    "\n",
    "    Returns:\n",
    "    - float: Risk premium of the gamble.\n",
    "    \"\"\"\n",
    "    return E_W - (W0 + CE)\n",
    "\n",
    "def taylor_series_expansion(u_prime: float, u_double_prime: float, delta_W: float) -> float:\n",
    "    \"\"\"\n",
    "    Approximates the expected utility using Taylor series expansion.\n",
    "    \n",
    "    Parameters:\n",
    "    - u_prime: First derivative of the utility function at initial wealth.\n",
    "    - u_double_prime: Second derivative of the utility function at initial wealth.\n",
    "    - delta_W: Change in wealth.\n",
    "    \n",
    "    Returns:\n",
    "    - Taylor series approximation of expected utility.\n",
    "    \"\"\"\n",
    "    return u_prime * delta_W + 0.5 * u_double_prime * (delta_W**2)\n",
    "\n",
    "# Given values\n",
    "W0 = 1000\n",
    "W_win = 350\n",
    "W_lose = -150\n",
    "p_win = 1/3\n",
    "p_lose = 2/3\n",
    "\n",
    "# Calculate expected utility of the gamble.\n",
    "EU = expected_utility(W0, W_win, W_lose, p_win, p_lose)\n",
    "\n",
    "# Solve for the certainty equivalent.\n",
    "CE = find_certainty_equivalent(EU, W0)\n",
    "\n",
    "# Calculate expected wealth from the game.\n",
    "E_W = W0 + p_win * W_win + p_lose * W_lose\n",
    "\n",
    "# Calculate the risk premium.\n",
    "RP = calculate_risk_premium(E_W, W0, CE)\n",
    "\n",
    "# Compute the series expansion.\n",
    "u_prime_W0 = 1/W0\n",
    "u_double_prime_W0 = -1/(W0**2)\n",
    "delta_W = p_win * W_win + p_lose * W_lose\n",
    "EU_approx = utility(W0) + taylor_series_expansion(u_prime_W0, u_double_prime_W0, delta_W)\n",
    "\n",
    "# Display results.\n",
    "print(f\"Certainty Equivalent: {CE:.2f}\")\n",
    "print(f\"Risk Premium: {RP:.2f}\")\n",
    "print(f\"Expected Utility: {EU:.4f}\")\n",
    "print(f\"Taylor Series Expected Utility Approximation: {EU_approx:.4f}\")"
   ]
  },
  {
   "cell_type": "markdown",
   "metadata": {},
   "source": [
    "1. *What is the Certainty Equivalent of this risky game?*\n",
    "\n",
    "The Certainty Equivalent (CE) of this risky game is $\\bf{-\\$8.28}$. This means that the investor would be indifferent between accepting a certain outcome that effectively reduces their wealth to $\\$991.72 (\\$1000 - \\$8.28)$ and taking the gamble with the potential to win $\\$350$ or lose $\\$150$. The negative value of the CE indicates that, according to the investor's utility function (which is the natural logarithm of wealth in this case), they perceive the gamble as having a net negative effect on their utility compared to their initial position, even though the game is \"fair\" in terms of expected monetary value. This highlights the risk-averse nature of the utility function, where the potential loss weighs more heavily on the decision than the equivalent potential gain.\n",
    "\n",
    "2. *What is the exact Risk Premium of this risky game?*\n",
    "\n",
    "The Risk Premium (RP) for this game is approximately $\\bf{\\$24.94}$. This is the amount the investor would require as compensation to be indifferent between taking the gamble and not participating, based on their initial wealth of $\\$1000$. It represents the monetary value of the risk associated with the gamble to the investor. Since the gamble has a negative certainty equivalent, the risk premium indicates how much the investor values certainty over the possibility of the outcomes provided by the gamble. In simpler terms, it's the price the investor is willing to pay to avoid the risk, reflecting their aversion to the gamble's uncertainty.\n",
    "\n",
    "3. *How good is the approximation obtained by using a Taylor series expansion?*\n",
    "\n",
    "The approximation of the expected utility using a Taylor series expansion is **quite good**. The exact expected utility (EU) calculated is **6.8994**, while the Taylor series expected utility approximation (EU_approx) is **6.9243**. The difference between them is minimal, indicating that the Taylor series expansion provides a close approximation to the actual expected utility for this particular setup. This suggests that for small changes in wealth (such as those involved in this gamble, relative to the investor's initial wealth), the Taylor series expansion around the initial wealth effectively captures the utility function's curvature and provides a reliable estimate of the expected utility."
   ]
  },
  {
   "cell_type": "markdown",
   "metadata": {},
   "source": [
    "b. **Sensitivity to Initial Wealth**\n",
    "\n",
    "Assume that the initial wealth is $\\$2000$. What is the risk premium now?"
   ]
  },
  {
   "cell_type": "code",
   "execution_count": 9,
   "metadata": {},
   "outputs": [
    {
     "name": "stdout",
     "output_type": "stream",
     "text": [
      "New Risk Premium: 13.10\n"
     ]
    }
   ],
   "source": [
    "W0_new = 2000\n",
    "\n",
    "# Calculate expected utility of the gamble with new initial wealth.\n",
    "EU_new = expected_utility(W0_new, W_win, W_lose, p_win, p_lose)\n",
    "\n",
    "# Solve for the certainty equivalent with new initial wealth.\n",
    "CE_new = find_certainty_equivalent(EU_new, W0_new)\n",
    "\n",
    "# Calculate expected wealth from the game with new initial wealth.\n",
    "E_W_new = W0_new + p_win * W_win + p_lose * W_lose\n",
    "\n",
    "# Calculate the risk premium with the new initial wealth.\n",
    "RP_new = calculate_risk_premium(E_W_new, W0_new, CE_new)\n",
    "\n",
    "print(f\"New Risk Premium: {RP_new:.2f}\")"
   ]
  },
  {
   "cell_type": "markdown",
   "metadata": {},
   "source": [
    "Given the initial wealth increase to $\\$2000$ and applying the previously defined Python code, the risk premium for this new scenario is approximately $\\bf{\\$13.10}$. This result indicates how sensitive the investor's risk aversion is to changes in initial wealth. With an initial wealth of $\\$2000$, the investor perceives the gamble to be less risky compared to when the initial wealth was $\\$1000$, hence the lower risk premium.\n",
    "\n",
    "This decrease in the risk premium with an increase in initial wealth can be attributed to the utility function's properties, which in this case is a logarithmic function. The logarithmic utility function exhibits **diminishing marginal utility**, meaning that as wealth increases, the utility gained from an additional dollar becomes less significant. Consequently, the investor's aversion to losing a certain amount of money diminishes as their wealth increases, leading to a lower risk premium for the gamble at higher levels of initial wealth."
   ]
  },
  {
   "cell_type": "markdown",
   "metadata": {},
   "source": [
    "c. **Sensitivity to Volatility**\n",
    "\n",
    "Assume that the initial wealth is $\\$1000$ and the outcomes are winning $\\$300$ with a probability of $1/2$ or losing $\\$300$ with a probability of $1/2$. What is the risk premium now?"
   ]
  },
  {
   "cell_type": "code",
   "execution_count": 10,
   "metadata": {},
   "outputs": [
    {
     "name": "stdout",
     "output_type": "stream",
     "text": [
      "New Risk Premium: 46.06\n"
     ]
    }
   ],
   "source": [
    "# Re-defining necessary values and functions to calculate the new risk premium.\n",
    "\n",
    "# Updated game conditions for sensitivity to volatility.\n",
    "W0 = 1000  # Initial wealth is $1000\n",
    "W_win = 300  # Winning amount is now $300\n",
    "W_lose = -300  # Losing amount is also $300, indicating increased volatility\n",
    "p_win = 1/2  # Probability of winning is 1/2\n",
    "p_lose = 1/2  # Probability of losing is also 1/2\n",
    "\n",
    "# Calculate expected utility with the new conditions.\n",
    "EU_new = expected_utility(W0, W_win, W_lose, p_win, p_lose)\n",
    "\n",
    "# Solve for the certainty equivalent with the new conditions.\n",
    "CE_new = find_certainty_equivalent(EU_new, W0)\n",
    "\n",
    "# Calculate expected wealth from the game with the new conditions.\n",
    "E_W_new = W0 + p_win * W_win + p_lose * W_lose\n",
    "\n",
    "# Calculate the risk premium with the new conditions\n",
    "RP_new = calculate_risk_premium(E_W_new, W0, CE_new)\n",
    "\n",
    "print(f\"New Risk Premium: {RP_new:.2f}\")"
   ]
  },
  {
   "cell_type": "markdown",
   "metadata": {},
   "source": [
    "With the updated game conditions, the risk premium now is approximately $\\bf{\\$46.06}$. This indicates a significant increase in the risk premium compared to the previous scenarios.\n",
    "\n",
    "This increase reflects the heightened sensitivity of the investor's risk aversion to the increased volatility of the game. With both potential gains and losses being larger and equally probable, the gamble is perceived as **riskier**, leading to a **higher risk premium**. The investor would require a larger compensation (in terms of a risk premium) to be willing to participate in this more volatile game."
   ]
  },
  {
   "cell_type": "markdown",
   "metadata": {},
   "source": [
    "##### 2. Certainty Equivalent and Risk Premium for a Power Utility (30 pts)"
   ]
  },
  {
   "cell_type": "markdown",
   "metadata": {},
   "source": [
    "An investor whose initial wealth is $\\$1000$ is offered an opportunity to play a gamble with 2 possible outcomes: winning $\\$250$ with a probability of $2/3$ or losing $\\$400$ with a probability of $1/3$. The investor utility function is given by $u(W) = W^k$, where $k \\in \\mathbb{R}$."
   ]
  },
  {
   "cell_type": "markdown",
   "metadata": {},
   "source": [
    "a. **Absolute Risk Aversion & Risk Attitude**\n",
    "\n",
    "Compute the absolute risk aversion coefficient and describe the risk attitude of the investor (Risk-averse or Risk-taker) as a function of $k$. Justify your answer."
   ]
  },
  {
   "cell_type": "markdown",
   "metadata": {},
   "source": [
    "First, let's define **absolute risk aversion** (**ARA**) and explain how it relates to the utility function's shape as well as the parameter $k$.\n",
    "\n",
    "$$\\text{ARA}(W) = -\\frac{u''(W)}{u'(W)}$$\n",
    "\n",
    "Given the utility function $u(W) = W^k$, we can compute its *first* and *second derivatives* to find the **absolute risk aversion coefficient**:\n",
    "\n",
    "- First derivative $u'(W) = k \\cdot W^{k - 1}$\n",
    "- Second derivative $u''(W) = k \\cdot (k - 1) \\cdot W^{k - 2}$\n",
    "\n",
    "Substituting these into the formula for absolute risk aversion, we get:\n",
    "\n",
    "$$\\text{ARA}(W) = -\\frac{k \\cdot (k - 1) \\cdot W^{k - 2}}{k \\cdot W^{k - 1}} = -(k - 1) \\cdot W^{-1} = -\\frac{k - 1}{W} = \\boldsymbol{\\frac{1 - k}{W}}$$\n",
    "\n",
    "The sign and magnitude of the ARA coefficient depend on $k$ and $W$, which indicates the investor's risk attitude:\n",
    "\n",
    "- If $k < 1 , \\text{ARA}(W) > 0$, indicating *risk aversion* since the utility function is **concave**.\n",
    "- If $k > 1, \\text{ARA}(W) < 0$, indicating *risk seeking* since the utility function is **convex**.\n",
    "- If $k = 1, \\text{ARA}(W) = 0$, indicating *risk neutrality* since the utility function is **linear**."
   ]
  },
  {
   "cell_type": "code",
   "execution_count": 12,
   "metadata": {},
   "outputs": [
    {
     "name": "stdout",
     "output_type": "stream",
     "text": [
      "For k = 0.5, the Absolute Risk Aversion (ARA) coefficient is 0.0005, indicating the investor is Risk-averse.\n",
      "For k = 1, the Absolute Risk Aversion (ARA) coefficient is -0.0000, indicating the investor is Risk-neutral.\n",
      "For k = 1.5, the Absolute Risk Aversion (ARA) coefficient is -0.0005, indicating the investor is Risk-taker.\n"
     ]
    }
   ],
   "source": [
    "def compute_ARA_and_risk_attitude(k: float, W: float = 1000) -> None:\n",
    "    \"\"\"\n",
    "    Computes the Absolute Risk Aversion (ARA) coefficient for a given k and W,\n",
    "    and describes the investor's risk attitude.\n",
    "    \n",
    "    Parameters:\n",
    "    - k: The exponent in the utility function u(W) = W^k.\n",
    "    - W: Wealth, with a default value of 1000.\n",
    "    \"\"\"\n",
    "    # First derivative of the utility function\n",
    "    u_prime = k * W**(k - 1)\n",
    "    \n",
    "    # Second derivative of the utility function\n",
    "    u_double_prime = k * (k - 1) * W**(k - 2)\n",
    "    \n",
    "    # Absolute Risk Aversion (ARA) coefficient\n",
    "    ARA = -(u_double_prime / u_prime)\n",
    "    \n",
    "    # Determine risk attitude based on k\n",
    "    if k < 1:\n",
    "        risk_attitude = \"Risk-averse\"\n",
    "    elif k > 1:\n",
    "        risk_attitude = \"Risk-taker\"\n",
    "    else:  # k == 1\n",
    "        risk_attitude = \"Risk-neutral\"\n",
    "    \n",
    "    print(f\"For k = {k}, the Absolute Risk Aversion (ARA) coefficient is {ARA:.4f}, indicating the investor is {risk_attitude}.\")\n",
    "\n",
    "# Example usage\n",
    "k_values = [0.5, 1, 1.5]  # Example k values to illustrate different risk attitudes\n",
    "for k in k_values:\n",
    "    compute_ARA_and_risk_attitude(k)"
   ]
  },
  {
   "cell_type": "markdown",
   "metadata": {},
   "source": [
    "1. **Risk-averse**:\n",
    "\n",
    "When $k < 1$, the utility function $u(W) = W^k$ is **concave**. In this case, the investor exhibits **diminishing marginal utility of wealth**, meaning that the utility gained from each additional unit of wealth decreases as wealth increases. This concavity leads to a positive ARA coefficient, as the investor values a sure outcome more than an uncertain one with the same expected value. The positive ARA coefficient $(\\text{ARA} > 0)$ for $k < 1$ indicates that the investor is risk-averse, preferring certainty to risk when faced with potential gains or losses.\n",
    "\n",
    "2. **Risk-neutral**:\n",
    "\n",
    "When $k = 1$, the utility function $u(W) = W^k = W$ is **linear**. This linearity implies **constant marginal utility of wealth**, where the investor values each additional unit of wealth equally, regardless of their current wealth level. A linear utility function results in an ARA coefficient of zero $(\\text{ARA} = 0)$, indicating that the investor is risk-neutral. A risk-neutral investor is indifferent between a certain outcome and a gamble with the same expected return, showing no preference for or aversion to risk.\n",
    "\n",
    "3. **Risk-taker (Risk-seeking)**:\n",
    "\n",
    "When $k > 1$, the utility function $u(W) = W^k$ is **convex**. This convexity reflects **increasing marginal utility of wealth**, meaning that the utility gained from each additional unit of wealth increases as wealth increases. Such a utility function leads to a negative ARA coefficient $(\\text{ARA} < 0)$, indicating that the investor is a risk-taker or risk-seeking. Risk-takers derive more utility from the possibility of higher gains associated with risk than from the certainty of a sure outcome, even when both options have the same expected return."
   ]
  },
  {
   "cell_type": "markdown",
   "metadata": {},
   "source": [
    "b. $\\boldsymbol{k = 1/2}$\n",
    "\n",
    "Assume that $k = 1/2$. What is the Certainty equivalent of this risky game? What is the exact risk premium of this risky game? How good is the approximation obtained by using a Taylor series expansion and absolute Risk-aversion coefficient?"
   ]
  },
  {
   "cell_type": "code",
   "execution_count": 18,
   "metadata": {},
   "outputs": [
    {
     "name": "stdout",
     "output_type": "stream",
     "text": [
      "Certainty Equivalent: 7.12\n",
      "Risk Premium: 26.21\n",
      "Expected Utility: 31.7352\n",
      "Taylor Series Expected Utility Approximation: 32.1454\n"
     ]
    }
   ],
   "source": [
    "# Adjust the utility function for u(W) = W^k, with k=1/2\n",
    "def utility(W: float, k: float = 1/2) -> float:\n",
    "    return W**k\n",
    "\n",
    "# Adjusted expected utility calculation for the given gamble.\n",
    "def expected_utility(W0: float, W_win: float, W_lose: float, p_win: float, p_lose: float, k: float = 1/2) -> float:\n",
    "    return p_win * utility(W0 + W_win, k) + p_lose * utility(W0 + W_lose, k)\n",
    "\n",
    "# Function to find the certainty equivalent remains the same.\n",
    "def find_certainty_equivalent(EU: float, W0: float, k: float = 1/2) -> float:\n",
    "    func = lambda CE: utility(W0 + CE, k) - EU\n",
    "    CE, = fsolve(func, 0)  # Initial guess for CE is 0.\n",
    "    return CE\n",
    "\n",
    "# Function to calculate the risk premium remains the same.\n",
    "def calculate_risk_premium(E_W: float, W0: float, CE: float) -> float:\n",
    "    return E_W - (W0 + CE)\n",
    "\n",
    "# Calculate the first and second derivatives of the utility function at W0.\n",
    "def u_prime(W: float, k: float = 1/2) -> float:\n",
    "    \"\"\"Calculate the first derivative of the utility function.\"\"\"\n",
    "    return k * W**(k - 1)\n",
    "\n",
    "def u_double_prime(W: float, k: float = 1/2) -> float:\n",
    "    \"\"\"Calculate the second derivative of the utility function.\"\"\"\n",
    "    return k * (k - 1) * W**(k - 2)\n",
    "\n",
    "# Compute the Taylor series expansion to approximate expected utility.\n",
    "def taylor_series_approximation(W0: float, delta_W: float, k: float = 1/2) -> float:\n",
    "    \"\"\"Approximate the expected utility using Taylor series expansion.\"\"\"\n",
    "    u_prime_W0 = u_prime(W0, k)\n",
    "    u_double_prime_W0 = u_double_prime(W0, k)\n",
    "\n",
    "    return utility(W0, k) + u_prime_W0 * delta_W + 0.5 * u_double_prime_W0 * (delta_W**2)\n",
    "\n",
    "# Given values for the new scenario.\n",
    "W0 = 1000  # Initial wealth\n",
    "W_win = 250  # Winning amount\n",
    "W_lose = -400  # Losing amount\n",
    "p_win = 2/3  # Probability of winning\n",
    "p_lose = 1/3  # Probability of losing\n",
    "\n",
    "# Calculate expected utility of the gamble.\n",
    "EU = expected_utility(W0, W_win, W_lose, p_win, p_lose)\n",
    "\n",
    "# Solve for the certainty equivalent.\n",
    "CE = find_certainty_equivalent(EU, W0)\n",
    "\n",
    "# Calculate expected wealth from the game.\n",
    "E_W = W0 + p_win * W_win + p_lose * W_lose\n",
    "\n",
    "# Calculate the risk premium.\n",
    "RP = calculate_risk_premium(E_W, W0, CE)\n",
    "\n",
    "# Calculate the change in wealth for the gamble\n",
    "delta_W = p_win * W_win + p_lose * W_lose\n",
    "\n",
    "# Calculate the Taylor series approximation of expected utility\n",
    "EU_approx = taylor_series_approximation(W0, delta_W)\n",
    "\n",
    "# Display results.\n",
    "print(f\"Certainty Equivalent: {CE:.2f}\")\n",
    "print(f\"Risk Premium: {RP:.2f}\")\n",
    "print(f\"Expected Utility: {EU:.4f}\")\n",
    "print(f\"Taylor Series Expected Utility Approximation: {EU_approx:.4f}\")"
   ]
  },
  {
   "cell_type": "markdown",
   "metadata": {},
   "source": [
    "1. *What is the Certainty Equivalent of this risky game?*\n",
    "\n",
    "The Certainty Equivalent (CE) of the game is $\\bf{\\$7.12}$. This value represents the additional amount of money, over the initial wealth of $\\$1000$, that the investor would consider equivalent in utility to participating in the risky game. In other words, the investor would be indifferent between receiving an assured $\\$1007.12$ and playing the game with the potential to win $\\$250$ or lose $\\$400$ with given probabilities.\n",
    "\n",
    "2. *What is the exact Risk Premium of this risky game?*\n",
    "\n",
    "The Risk Premium (RP) of the game is $\\bf{\\$26.21}$. The risk premium is the difference between the expected wealth from the game and the certainty equivalent, adjusted for the initial wealth. It quantifies the amount the investor would pay to avoid the risk, indicating the monetary value of the risk to the investor. In this case, it shows that the investor would be willing to forgo $\\$26.21$ to avoid participating in the gamble, highlighting the investor's risk aversion.\n",
    "\n",
    "3. *How good is the approximation obtained by using a Taylor series expansion and absolute Risk-aversion coefficient?*\n",
    "\n",
    "The approximation of the expected utility using the Taylor series expansion is **32.1454**, compared to the directly calculated expected utility of **31.7352**. The small discrepancy between the Taylor series approximation and the actual expected utility suggests that the approximation is **quite good**, especially considering the simplicity and the local nature of the Taylor series expansion around the initial wealth $W_0$."
   ]
  },
  {
   "cell_type": "markdown",
   "metadata": {},
   "source": [
    "c. $\\boldsymbol{k = 2}$\n",
    "\n",
    "Assume that $k = 2$. What is the Certainty equivalent of this risky game? What is the exact risk premium of this risky game? How good is the approximation obtained by using a Taylor series expansion and absolute Risk-aversion coefficient?"
   ]
  },
  {
   "cell_type": "code",
   "execution_count": 22,
   "metadata": {},
   "outputs": [
    {
     "name": "stdout",
     "output_type": "stream",
     "text": [
      "Certainty Equivalent for k = 2: 77.81\n",
      "Risk Premium for k = 2: -44.47\n",
      "Expected Utility for k = 2: 1161666.67\n",
      "Taylor Series Expected Utility Approximation for k = 2: 1067777.78\n"
     ]
    }
   ],
   "source": [
    "# Recalculate CE, RP, and Taylor series approximation with k = 2.\n",
    "EU_k2 = expected_utility(W0, W_win, W_lose, p_win, p_lose, k = 2)\n",
    "CE_k2 = find_certainty_equivalent(EU_k2, W0, k = 2)\n",
    "RP_k2 = calculate_risk_premium(E_W, W0, CE_k2)\n",
    "\n",
    "# Taylor series expansion requires the first and second derivatives at W0 for k = 2.\n",
    "u_prime_W0_k2 = u_prime(W0, k = 2)\n",
    "u_double_prime_W0_k2 = u_double_prime(W0, k = 2)\n",
    "EU_approx_k2 = taylor_series_approximation(W0, delta_W, k = 2)\n",
    "\n",
    "# Display the results for k = 2.\n",
    "print(f\"Certainty Equivalent for k = 2: {CE_k2:.2f}\")\n",
    "print(f\"Risk Premium for k = 2: {RP_k2:.2f}\")\n",
    "print(f\"Expected Utility for k = 2: {EU_k2:.2f}\")\n",
    "print(f\"Taylor Series Expected Utility Approximation for k = 2: {EU_approx_k2:.2f}\")"
   ]
  },
  {
   "cell_type": "markdown",
   "metadata": {},
   "source": [
    "1. *What is the Certainty Equivalent of this risky game?*\n",
    "\n",
    "The Certainty Equivalent (CE) for $k = 2$ is $\\bf{\\$77.81}$. This value represents the guaranteed amount of money that yields the same utility as the expected utility of the risky game for the investor. Given the utility function $u(W) = W^2$, this CE indicates the investor would be indifferent between a sure gain of $\\$77.81$ and participating in the risky game with the potential to win $\\$250$ or lose $\\$400$ with specified probabilities.\n",
    "\n",
    "2. *What is the exact Risk Premium of this risky game?*\n",
    "\n",
    "The exact Risk Premium (RP) for $k = 2$ is $\\bf{-\\$44.47}$. Typically, the risk premium is expected to be a **positive value**, indicating the amount an investor requires over the expected value of a risky asset to be indifferent between the risky and a certain outcome. A negative risk premium, in this context, suggests that the investor values the gamble more than the expected wealth itself, possibly due to the convexity of the utility function $u(W) = W^2$, which implies risk-seeking behavior. This is because, with $k = 2$, the investor's utility function shows **increasing marginal utility** for wealth, leading to a preference for the gamble over a certain outcome with the same expected monetary value.\n",
    "\n",
    "3. *How good is the approximation obtained by using a Taylor series expansion and absolute Risk-aversion coefficient?*\n",
    "\n",
    "The Expected Utility calculated directly is **1161666.67** while the Taylor Series Expected Utility Approximation for $k = 2$ is **1067777.78**. The approximation provides a simplified way to estimate expected utility based on local changes in wealth (due to the gamble), but **it does not capture the exact utility** because of the non-linear nature of the utility function at $k = 2$. The significant difference between the actual expected utility and the Taylor series approximation reflects the **limitations** of using a **second-order Taylor series** to approximate the utility over a larger range of wealth changes, especially with a highly convex utility function as in the case with $k = 2$. The approximation is useful for small changes in wealth but becomes less accurate for games with outcomes that substantially alter the wealth, as seen in this scenario."
   ]
  },
  {
   "cell_type": "markdown",
   "metadata": {},
   "source": [
    "##### 3. Exponential Utility (20 pts)"
   ]
  },
  {
   "cell_type": "markdown",
   "metadata": {},
   "source": [
    "Consider an investment universe with $n$ securities, $S_1, S_2, \\dots, S_n$. Given a fixed investment horizon, we denote by $r = (r_1, r_2, \\dots, r_n)^T$, the vector of random returns of the securities, and by $\\mu = E(r)$ and $\\Sigma = cov(r)$ (the Expected Return and Variance-covariance matrix respectively). We assume that an investor has a fully invested Portfolio defined by a vector of weights or holdings $\\omega = (\\omega_1, \\omega_2, \\dots, \\omega_n)^T$ with random return $r_p(\\omega)$."
   ]
  },
  {
   "cell_type": "markdown",
   "metadata": {},
   "source": [
    "a. **Risk Aversion**\n",
    "\n",
    "Prove that an investor with utility function $U(r_p) = -e^{-\\lambda r_p}$ for $\\lambda > 0$ is risk-averse."
   ]
  },
  {
   "cell_type": "markdown",
   "metadata": {},
   "source": [
    "To prove that an investor with the utility function $U(r_p) = -e^{-\\lambda r_p}$ for $\\lambda > 0$ is risk-averse, we need to examine the **concavity** of the utility function. A utility function is considered to demonstrate risk aversion if it is **concave**, which can be formally shown by its second derivative being negative across its domain.\n",
    "\n",
    "Given the utility function:\n",
    "\n",
    "$$U(r_p) = -e^{-\\lambda r_p}$$\n",
    "\n",
    "Let's find the first and second derivatives of $U(r_p)$ with respect to $r_p$:\n",
    "\n",
    "1. **First derivative** $U'(r_p)$:\n",
    "   $$U'(r_p) = \\frac{d}{dr_p}(-e^{-\\lambda r_p}) = \\lambda e^{-\\lambda r_p}$$\n",
    "\n",
    "2. **Second derivative** $U''(r_p)$:\n",
    "$$U''(r_p) = \\frac{d^2}{d(r_p)^2}(-e^{-\\lambda r_p}) = -\\lambda^2 e^{-\\lambda r_p}$$\n",
    "\n",
    "To determine if the investor is risk-averse, we examine the sign of $U''(r_p)$:\n",
    "\n",
    "$$U''(r_p) = -\\lambda^2 e^{-\\lambda r_p}$$\n",
    "\n",
    "Since $\\lambda > 0$ and $e^{-\\lambda r_p}$ is always positive for all $r_p$ (as the exponential function is always positive), it follows that $U''(r_p)$ is **always negative** ($U''(r_p) < 0$) for any value of $r_p$. This **negative second derivative** indicates that the utility function $U(r_p)$ is **concave**, which is a hallmark of **risk aversion**.\n",
    "\n",
    "Therefore, the investor with the utility function $U(r_p) = -e^{-\\lambda r_p}$ for $\\lambda > 0$ is indeed **risk-averse**, as demonstrated by the concavity of the utility function over its domain."
   ]
  }
 ],
 "metadata": {
  "kernelspec": {
   "display_name": "Python 3",
   "language": "python",
   "name": "python3"
  },
  "language_info": {
   "codemirror_mode": {
    "name": "ipython",
    "version": 3
   },
   "file_extension": ".py",
   "mimetype": "text/x-python",
   "name": "python",
   "nbconvert_exporter": "python",
   "pygments_lexer": "ipython3",
   "version": "3.11.5"
  }
 },
 "nbformat": 4,
 "nbformat_minor": 2
}
