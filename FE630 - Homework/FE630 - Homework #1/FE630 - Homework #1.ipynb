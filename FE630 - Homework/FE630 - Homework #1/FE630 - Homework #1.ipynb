{
 "cells": [
  {
   "cell_type": "markdown",
   "metadata": {},
   "source": [
    "### FE630 - Homework #1"
   ]
  },
  {
   "cell_type": "markdown",
   "metadata": {},
   "source": [
    "**Author**: Sid Bhatia\n",
    "\n",
    "**Date**: March 3rd, 2023\n",
    "\n",
    "**Pledge**: I pledge my honor that I have abided by the Stevens Honor System.\n",
    "\n",
    "**Professor**: Papa Momar Ndiaye"
   ]
  },
  {
   "cell_type": "markdown",
   "metadata": {},
   "source": [
    "#### Problem #1 - Utility Functions"
   ]
  },
  {
   "cell_type": "markdown",
   "metadata": {},
   "source": [
    "##### 1. Log Utility"
   ]
  },
  {
   "cell_type": "markdown",
   "metadata": {},
   "source": [
    "a. **Certainty Equivalent and Risk Premium**\n",
    "\n",
    "An investor whose initial wealth is $\\$1000$ is offered an opportunity to play a fair game with 2 possible outcomes: winning $\\$350$ with a probability of $1/3$ or losing $\\$150$ with a probability of $2/3$. The investor utility function is the natural logarithm of his wealth, $u(W) = \\ln(W)$.\n",
    "\n",
    "- What is the Certainty Equivalent of this risky game?\n",
    "- What is the exact Risk Premium of this risky game?\n",
    "- How good is the approximation obtained by using a Taylor series expansion?"
   ]
  },
  {
   "cell_type": "markdown",
   "metadata": {},
   "source": [
    "First, let's define some terms: \n",
    "- **Certainty Equivalent (CE)**: The guaranteed amount of money that an investor considers equivalent to a risky gamble. It's the amount where the investor is indifferent between the certain payment and the risky gamble.\n",
    "- **Risk Premium (RP)**: The difference between the expected return of the risky gamble and the certainty equivalent. It represents the extra amount an investor needs to be willing to participate in the risky gamble.\n",
    "- **Utility Function**: In this case, $u(W) = \\ln(W)$, where $W$ is wealth. This function represents the investor's satisfaction or utility with different levels of wealth.\n",
    "\n",
    "Given:\n",
    "- Initial wealth, $W_0 = \\$1000$\n",
    "- Win amount, $W_{ \\text{win} } = \\$350$ with probability $p_{\\text{win}} = \\frac{1}{3}$\n",
    "- Loss amount, $W_{ \\text{loss} } = -\\$150$ with probability $p_{\\text{loss}} = \\frac{2}{3}$\n",
    "\n",
    "We can calculate the expected utility of the gamble, find the certainty equivalent by equating the expected utility to the utility of the certainty equivalent, and then calculate the risk premium. Additionally, we'll use a Taylor series expansion around the initial wealth to approximate the expected utility and compare it.\n",
    "\n",
    "As such, we will do the following steps:\n",
    "1. Calculate the *expected utility* of the game.\n",
    "2. Find the *certainty equivalent (CE)* by setting the expected utility equal to the utility of the CE and solving for CE.\n",
    "3. Calculate the *risk premium* as the difference between the expected wealth and the certainty equivalent.\n",
    "4. Compare the *exact expected utility* to the approximation obtained by using a *Taylor series expansion* around the initial wealth."
   ]
  },
  {
   "cell_type": "code",
   "execution_count": 8,
   "metadata": {},
   "outputs": [
    {
     "name": "stdout",
     "output_type": "stream",
     "text": [
      "Certainty Equivalent: -8.28\n",
      "Risk Premium: 24.94\n",
      "Expected Utility: 6.8994\n",
      "Taylor Series Expected Utility Approximation: 6.9243\n"
     ]
    }
   ],
   "source": [
    "import numpy as np\n",
    "from scipy.optimize import fsolve\n",
    "from typing import Callable\n",
    "\n",
    "def utility(W: float) -> float:\n",
    "    \"\"\"\n",
    "    Calculate the utility of wealth using a natural logarithm.\n",
    "\n",
    "    Parameters:\n",
    "    - W (float): Wealth.\n",
    "\n",
    "    Returns:\n",
    "    - float: Utility of the wealth.\n",
    "    \"\"\"\n",
    "    return np.log(W)\n",
    "\n",
    "def expected_utility(W0: float, W_win: float, W_lose: float, p_win: float, p_lose: float) -> float:\n",
    "    \"\"\"\n",
    "    Calculate the expected utility of a gamble with given outcomes and probabilities.\n",
    "\n",
    "    Parameters:\n",
    "    - W0 (float): Initial wealth.\n",
    "    - W_win (float): Winning amount.\n",
    "    - W_lose (float): Losing amount.\n",
    "    - p_win (float): Probability of winning.\n",
    "    - p_lose (float): Probability of losing.\n",
    "\n",
    "    Returns:\n",
    "    - float: Expected utility of the gamble.\n",
    "    \"\"\"\n",
    "    return p_win * utility(W0 + W_win) + p_lose * utility(W0 + W_lose)\n",
    "\n",
    "def find_certainty_equivalent(EU: float, W0: float) -> float:\n",
    "    \"\"\"\n",
    "    Find the certainty equivalent of a gamble based on its expected utility.\n",
    "\n",
    "    Parameters:\n",
    "    - EU (float): Expected utility of the gamble.\n",
    "    - W0 (float): Initial wealth.\n",
    "\n",
    "    Returns:\n",
    "    - float: Certainty equivalent of the gamble.\n",
    "    \"\"\"\n",
    "    func = lambda CE: utility(W0 + CE) - EU\n",
    "    CE, = fsolve(func, 0)  # Initial guess for CE is 0.\n",
    "    return CE\n",
    "\n",
    "def calculate_risk_premium(E_W: float, W0: float, CE: float) -> float:\n",
    "    \"\"\"\n",
    "    Calculate the risk premium of the gamble.\n",
    "\n",
    "    Parameters:\n",
    "    - E_W (float): Expected wealth from the gamble.\n",
    "    - W0 (float): Initial wealth.\n",
    "    - CE (float): Certainty equivalent of the gamble.\n",
    "\n",
    "    Returns:\n",
    "    - float: Risk premium of the gamble.\n",
    "    \"\"\"\n",
    "    return E_W - (W0 + CE)\n",
    "\n",
    "def taylor_series_expansion(u_prime: float, u_double_prime: float, delta_W: float) -> float:\n",
    "    \"\"\"\n",
    "    Approximates the expected utility using Taylor series expansion.\n",
    "    \n",
    "    Parameters:\n",
    "    - u_prime: First derivative of the utility function at initial wealth.\n",
    "    - u_double_prime: Second derivative of the utility function at initial wealth.\n",
    "    - delta_W: Change in wealth.\n",
    "    \n",
    "    Returns:\n",
    "    - Taylor series approximation of expected utility.\n",
    "    \"\"\"\n",
    "    return u_prime * delta_W + 0.5 * u_double_prime * (delta_W**2)\n",
    "\n",
    "# Given values\n",
    "W0 = 1000\n",
    "W_win = 350\n",
    "W_lose = -150\n",
    "p_win = 1/3\n",
    "p_lose = 2/3\n",
    "\n",
    "# Calculate expected utility of the gamble.\n",
    "EU = expected_utility(W0, W_win, W_lose, p_win, p_lose)\n",
    "\n",
    "# Solve for the certainty equivalent.\n",
    "CE = find_certainty_equivalent(EU, W0)\n",
    "\n",
    "# Calculate expected wealth from the game.\n",
    "E_W = W0 + p_win * W_win + p_lose * W_lose\n",
    "\n",
    "# Calculate the risk premium.\n",
    "RP = calculate_risk_premium(E_W, W0, CE)\n",
    "\n",
    "# Compute the series expansion.\n",
    "u_prime_W0 = 1/W0\n",
    "u_double_prime_W0 = -1/(W0**2)\n",
    "delta_W = p_win * W_win + p_lose * W_lose\n",
    "EU_approx = utility(W0) + taylor_series_expansion(u_prime_W0, u_double_prime_W0, delta_W)\n",
    "\n",
    "# Display results.\n",
    "print(f\"Certainty Equivalent: {CE:.2f}\")\n",
    "print(f\"Risk Premium: {RP:.2f}\")\n",
    "print(f\"Expected Utility: {EU:.4f}\")\n",
    "print(f\"Taylor Series Expected Utility Approximation: {EU_approx:.4f}\")"
   ]
  },
  {
   "cell_type": "markdown",
   "metadata": {},
   "source": [
    "1. *What is the Certainty Equivalent of this risky game?*\n",
    "\n",
    "The Certainty Equivalent (CE) of this risky game is $\\bf{-\\$8.28}$. This means that the investor would be indifferent between accepting a certain outcome that effectively reduces their wealth to $991.72 ($1000 - $8.28) and taking the gamble with the potential to win $350 or lose $150. The negative value of the CE indicates that, according to the investor's utility function (which is the natural logarithm of wealth in this case), they perceive the gamble as having a net negative effect on their utility compared to their initial position, even though the game is \"fair\" in terms of expected monetary value. This highlights the risk-averse nature of the utility function, where the potential loss weighs more heavily on the decision than the equivalent potential gain.\n",
    "\n",
    "2. *What is the exact Risk Premium of this risky game?*\n",
    "\n",
    "The Risk Premium (RP) for this game is approximately $\\bf{\\$24.94}$. This is the amount the investor would require as compensation to be indifferent between taking the gamble and not participating, based on their initial wealth of $1000. It represents the monetary value of the risk associated with the gamble to the investor. Since the gamble has a negative certainty equivalent, the risk premium indicates how much the investor values certainty over the possibility of the outcomes provided by the gamble. In simpler terms, it's the price the investor is willing to pay to avoid the risk, reflecting their aversion to the gamble's uncertainty.\n",
    "\n",
    "3. *How good is the approximation obtained by using a Taylor series expansion?*\n",
    "\n",
    "The approximation of the expected utility using a Taylor series expansion is **quite good**. The exact expected utility (EU) calculated is **6.8994**, while the Taylor series expected utility approximation (EU_approx) is **6.9243**. The difference between them is minimal, indicating that the Taylor series expansion provides a close approximation to the actual expected utility for this particular setup. This suggests that for small changes in wealth (such as those involved in this gamble, relative to the investor's initial wealth), the Taylor series expansion around the initial wealth effectively captures the utility function's curvature and provides a reliable estimate of the expected utility."
   ]
  },
  {
   "cell_type": "markdown",
   "metadata": {},
   "source": [
    "b. **Sensitivity to Initial Wealth**\n",
    "\n",
    "Assume that the initial wealth is $\\$2000$. What is the risk premium now?"
   ]
  },
  {
   "cell_type": "code",
   "execution_count": 9,
   "metadata": {},
   "outputs": [
    {
     "name": "stdout",
     "output_type": "stream",
     "text": [
      "New Risk Premium: 13.10\n"
     ]
    }
   ],
   "source": [
    "W0_new = 2000\n",
    "\n",
    "# Calculate expected utility of the gamble with new initial wealth.\n",
    "EU_new = expected_utility(W0_new, W_win, W_lose, p_win, p_lose)\n",
    "\n",
    "# Solve for the certainty equivalent with new initial wealth.\n",
    "CE_new = find_certainty_equivalent(EU_new, W0_new)\n",
    "\n",
    "# Calculate expected wealth from the game with new initial wealth.\n",
    "E_W_new = W0_new + p_win * W_win + p_lose * W_lose\n",
    "\n",
    "# Calculate the risk premium with the new initial wealth.\n",
    "RP_new = calculate_risk_premium(E_W_new, W0_new, CE_new)\n",
    "\n",
    "print(f\"New Risk Premium: {RP_new:.2f}\")"
   ]
  },
  {
   "cell_type": "markdown",
   "metadata": {},
   "source": [
    "Given the initial wealth increase to $\\$2000$ and applying the previously defined Python code, the risk premium for this new scenario is approximately $\\bf{\\$13.10}$. This result indicates how sensitive the investor's risk aversion is to changes in initial wealth. With an initial wealth of $\\$2000$, the investor perceives the gamble to be less risky compared to when the initial wealth was $\\$1000$, hence the lower risk premium.\n",
    "\n",
    "This decrease in the risk premium with an increase in initial wealth can be attributed to the utility function's properties, which in this case is a logarithmic function. The logarithmic utility function exhibits **diminishing marginal utility**, meaning that as wealth increases, the utility gained from an additional dollar becomes less significant. Consequently, the investor's aversion to losing a certain amount of money diminishes as their wealth increases, leading to a lower risk premium for the gamble at higher levels of initial wealth."
   ]
  },
  {
   "cell_type": "markdown",
   "metadata": {},
   "source": [
    "c. **Sensitivity to Volatility**\n",
    "\n",
    "Assume that the initial wealth is $\\$1000$ and the outcomes are winning $\\$300$ with a probability of $1/2$ or losing $\\$300$ with a probability of $1/2$. What is the risk premium now?"
   ]
  }
 ],
 "metadata": {
  "kernelspec": {
   "display_name": "Python 3",
   "language": "python",
   "name": "python3"
  },
  "language_info": {
   "codemirror_mode": {
    "name": "ipython",
    "version": 3
   },
   "file_extension": ".py",
   "mimetype": "text/x-python",
   "name": "python",
   "nbconvert_exporter": "python",
   "pygments_lexer": "ipython3",
   "version": "3.11.5"
  }
 },
 "nbformat": 4,
 "nbformat_minor": 2
}
