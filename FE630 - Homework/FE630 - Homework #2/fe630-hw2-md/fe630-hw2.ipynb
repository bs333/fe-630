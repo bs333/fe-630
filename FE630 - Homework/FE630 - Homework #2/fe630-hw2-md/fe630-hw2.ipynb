{
 "cells": [
  {
   "cell_type": "markdown",
   "metadata": {},
   "source": [
    "### FE630 - Homework #2"
   ]
  },
  {
   "cell_type": "markdown",
   "metadata": {},
   "source": [
    "**Author**: Sid Bhatia\n",
    "\n",
    "**Date**: May 7th, 2023\n",
    "\n",
    "**Pledge**: I pledge my honor that I have abided by the Stevens Honor System.\n",
    "\n",
    "**Professor**: Papa Momar Ndiaye"
   ]
  },
  {
   "cell_type": "markdown",
   "metadata": {},
   "source": [
    "#### Topics"
   ]
  },
  {
   "cell_type": "markdown",
   "metadata": {},
   "source": [
    "- Algebra & Optimization;\n",
    "- Geometry of Efficient Frontiers;\n",
    "- Applications of One-Fund & Two-Fund Theorems."
   ]
  },
  {
   "cell_type": "markdown",
   "metadata": {},
   "source": [
    "#### P1 - Optimization w/Equality Constraints (40 pts)"
   ]
  },
  {
   "cell_type": "markdown",
   "metadata": {},
   "source": [
    "Consider the optimization problem **Max Expected Return w/Target Risk**:\n",
    "\n",
    "$$\n",
    "\\begin{cases}\n",
    "\\underset{\\omega_1, \\omega_2}{\\max} & R_p (\\omega_1, \\omega_2) = \\mu_1 \\omega_1 + \\mu_2 \\omega_2 \\tag{1} \\\\\n",
    "\\text{s.t.} & \\sqrt{\\sigma_1^2 \\omega_1^2 + 2 \\rho_{1, 2} \\sigma_1 \\sigma_2 \\omega_1 \\omega_2 + \\sigma_2^2 \\omega_2^2} = \\sigma_T \\\\\n",
    "& \\omega_1 + \\omega_2 = 1\n",
    "\\end{cases}\n",
    "$$\n",
    "\n",
    "where we have two securities with **Expected Returns** $ \\mu_1 $ and $ \\mu_2 $ for the column vector $ (\\mu_1, \\mu_2)^\\intercal \\in \\mathbb{R}^{2 \\times 1} $, **volatilities** $ (\\sigma_1, \\sigma_2) \\in \\mathbb{R}^{+} $, and **Pearson correlation coefficient** $ \\rho_{1, 2} \\in [-1, 1] $. Additionally, $ \\sigma_T \\in \\mathbb{R}^+ $ denotes the **target risk/vol**."
   ]
  },
  {
   "cell_type": "markdown",
   "metadata": {},
   "source": [
    "1. Solve the *problem (3)* using a **Lagrangian approach**. You will denote the solution (the ***optimal solution***) by $\\omega^*(\\sigma_T)$ and the ***optimal value*** of the problem by $R_p(\\omega_1^*(\\sigma_T), \\omega_2^*(\\sigma_T))$ by $R_p(\\sigma_T)$.\n",
    "\n",
    "2. Assume that $\\mu_1 = 5\\%$, $\\mu_2 = 10\\%$, $\\sigma_1 = 10\\%$, $\\sigma_2 = 20\\%$, and $\\rho_{1,2} = -0.5$ (moderate negative correlation). \n",
    "\n",
    "- Consider a sequence of successive values of $\\sigma_T$ in the range $[2\\%, 30\\%]$ by step of $0.5\\%$\n",
    "- Plot the efficient frontier: namely, the graph from the *mapping* $\\sigma_T \\mapsto R_p(\\sigma_T)$.\n",
    "\n",
    "The (aforementioned) graph maps the sequence of values of $\\sigma_T$ from the $x$-axis into the sequence of values $R_p(\\sigma_T)$ on the $y$-axis."
   ]
  }
 ],
 "metadata": {
  "language_info": {
   "name": "python"
  }
 },
 "nbformat": 4,
 "nbformat_minor": 2
}
