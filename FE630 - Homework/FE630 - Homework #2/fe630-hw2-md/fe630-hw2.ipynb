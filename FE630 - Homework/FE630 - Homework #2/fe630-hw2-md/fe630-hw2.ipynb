{
 "cells": [
  {
   "cell_type": "markdown",
   "metadata": {},
   "source": [
    "### FE630 - Homework #2"
   ]
  },
  {
   "cell_type": "markdown",
   "metadata": {},
   "source": [
    "**Author**: Sid Bhatia\n",
    "\n",
    "**Date**: May 7th, 2023\n",
    "\n",
    "**Pledge**: I pledge my honor that I have abided by the Stevens Honor System.\n",
    "\n",
    "**Professor**: Papa Momar Ndiaye"
   ]
  },
  {
   "cell_type": "markdown",
   "metadata": {},
   "source": [
    "#### Topics"
   ]
  },
  {
   "cell_type": "markdown",
   "metadata": {},
   "source": [
    "- Algebra & Optimization;\n",
    "- Geometry of Efficient Frontiers;\n",
    "- Applications of One-Fund & Two-Fund Theorems."
   ]
  },
  {
   "cell_type": "markdown",
   "metadata": {},
   "source": [
    "### P1 - Optimization w/Equality Constraints (40 pts)"
   ]
  },
  {
   "cell_type": "markdown",
   "metadata": {},
   "source": [
    "Consider the optimization problem **Max Expected Return w/Target Risk**:\n",
    "\n",
    "$$\n",
    "\\begin{cases}\n",
    "\\underset{\\omega_1, \\omega_2}{\\max} & R_p (\\omega_1, \\omega_2) = \\mu_1 \\omega_1 + \\mu_2 \\omega_2 \\tag{1} \\\\\n",
    "\\text{s.t.} & \\sqrt{\\sigma_1^2 \\omega_1^2 + 2 \\rho_{1, 2} \\sigma_1 \\sigma_2 \\omega_1 \\omega_2 + \\sigma_2^2 \\omega_2^2} = \\sigma_T \\\\\n",
    "& \\omega_1 + \\omega_2 = 1\n",
    "\\end{cases}\n",
    "$$\n",
    "\n",
    "where we have two securities with **Expected Returns** $ \\mu_1 $ and $ \\mu_2 $ for the column vector $ (\\mu_1, \\mu_2)^\\intercal \\in \\mathbb{R}^{2 \\times 1} $, **volatilities** $ (\\sigma_1, \\sigma_2) \\in \\mathbb{R}^{+} $, and **Pearson correlation coefficient** $ \\rho_{1, 2} \\in [-1, 1] $. Additionally, $ \\sigma_T \\in \\mathbb{R}^+ $ denotes the **target risk/vol**."
   ]
  },
  {
   "cell_type": "markdown",
   "metadata": {},
   "source": [
    "1. Solve the *problem (3)* using a **Lagrangian approach**. You will denote the solution (the ***optimal solution***) by $\\omega^*(\\sigma_T)$ and the ***optimal value*** of the problem by $R_p(\\omega_1^*(\\sigma_T), \\omega_2^*(\\sigma_T))$ by $R_p(\\sigma_T)$.\n",
    "\n",
    "2. Assume that $\\mu_1 = 5\\%$, $\\mu_2 = 10\\%$, $\\sigma_1 = 10\\%$, $\\sigma_2 = 20\\%$, and $\\rho_{1,2} = -0.5$ (moderate negative correlation). \n",
    "\n",
    "- Consider a sequence of successive values of $\\sigma_T$ in the range $[2\\%, 30\\%]$ by step of $0.5\\%$\n",
    "- Plot the efficient frontier: namely, the graph from the *mapping* $\\sigma_T \\mapsto R_p(\\sigma_T)$.\n",
    "\n",
    "The (aforementioned) graph maps the sequence of values of $\\sigma_T$ from the $x$-axis into the sequence of values $R_p(\\sigma_T)$ on the $y$-axis."
   ]
  },
  {
   "cell_type": "markdown",
   "metadata": {},
   "source": [
    "#### 1. Lagrangian Solution"
   ]
  },
  {
   "cell_type": "markdown",
   "metadata": {},
   "source": [
    "##### Problem Formulation"
   ]
  },
  {
   "cell_type": "markdown",
   "metadata": {},
   "source": [
    "The given optimization problem is:\n",
    "\n",
    "$$\n",
    "\\begin{cases}\n",
    "\\underset{x_1, x_2}{\\max} & 5 - x_1^2 - x_1x_2 - 3x_2^2 \\tag{2}\n",
    "\\\\\n",
    "\\text{s.t.} & x_1, x_2 \\geq 0\n",
    "\\\\\n",
    "& x_1 x_2 \\geq 2\n",
    "\\end{cases}\n",
    "$$"
   ]
  },
  {
   "cell_type": "markdown",
   "metadata": {},
   "source": [
    "##### Lagrangian Formulation"
   ]
  },
  {
   "cell_type": "markdown",
   "metadata": {},
   "source": [
    "The Lagrangian $\\mathcal{L}$ for this problem includes the objective function and the constraints incorporated through Lagrange multipliers:\n",
    "\n",
    "$$\n",
    "\\mathcal{L}(x_1, x_2, \\lambda_1, \\lambda_2, \\lambda_3) = 5 - x_1^2 - x_1x_2 - 3x_2^2 + \\lambda_1 x_1 + \\lambda_2 x_2 + \\lambda_3 (x_1 x_2 - 2) \\tag{3}\n",
    "$$\n",
    "\n",
    "Here, $\\lambda_1$, $\\lambda_2$, and $\\lambda_3$ are the Lagrange multipliers."
   ]
  },
  {
   "cell_type": "markdown",
   "metadata": {},
   "source": [
    "##### Lagrangian Partial Derivatives\n",
    "\n",
    "To find the stationary points, we take the partial derivatives of $\\mathcal{L}$ and set them to zero:\n",
    "\n",
    "$$\n",
    "\\frac{\\partial \\mathcal{L}}{\\partial x_1} = -2x_1 - x_2 + \\lambda_1 + \\lambda_3 x_2 = 0 \\tag{4}\n",
    "$$\n",
    "$$\n",
    "\\frac{\\partial \\mathcal{L}}{\\partial x_2} = -x_1 - 6x_2 + \\lambda_2 + \\lambda_3 x_1 = 0 \\tag{5}\n",
    "$$"
   ]
  },
  {
   "cell_type": "markdown",
   "metadata": {},
   "source": [
    "##### Complementary Slackness\n",
    "\n",
    "KKT conditions also include complementary slackness:\n",
    "\n",
    "$$\n",
    "\\lambda_1 x_1 = 0, \\quad \\lambda_2 x_2 = 0, \\quad \\lambda_3 (x_1 x_2 - 2) = 0 \\tag{6}\n",
    "$$"
   ]
  },
  {
   "cell_type": "markdown",
   "metadata": {},
   "source": [
    "#### 2. Efficient Frontier Mapping"
   ]
  },
  {
   "cell_type": "code",
   "execution_count": 1,
   "metadata": {},
   "outputs": [],
   "source": [
    "import numpy as np\n",
    "import matplotlib.pyplot as plt\n",
    "from scipy.optimize import minimize"
   ]
  },
  {
   "cell_type": "code",
   "execution_count": 5,
   "metadata": {},
   "outputs": [],
   "source": [
    "from typing import Tuple, List\n",
    "\n",
    "# Constants\n",
    "mu1: float = 0.05  # Expected return of the first security\n",
    "mu2: float = 0.10  # Expected return of the second security\n",
    "sigma1: float = 0.10  # Volatility of the first security\n",
    "sigma2: float = 0.20  # Volatility of the second security\n",
    "rho: float = -0.5  # Correlation coefficient between the securities\n",
    "\n",
    "# Target risk values\n",
    "sigma_T_values: np.ndarray = np.arange(0.02, 0.305, 0.005)"
   ]
  },
  {
   "cell_type": "code",
   "execution_count": 9,
   "metadata": {},
   "outputs": [],
   "source": [
    "def portfolio_return(weights: np.ndarray, mu1: float, mu2: float) -> float:\n",
    "    \"\"\"\n",
    "    Calculate the portfolio return based on given weights and expected returns.\n",
    "    \n",
    "    Parameters:\n",
    "        weights (np.ndarray): Array of weights for the securities.\n",
    "        mu1 (float): Expected return of the first security.\n",
    "        mu2 (float): Expected return of the second security.\n",
    "    \n",
    "    Returns:\n",
    "        float: The calculated portfolio return.\n",
    "    \"\"\"\n",
    "    return weights[0] * mu1 + weights[1] * mu2"
   ]
  },
  {
   "cell_type": "code",
   "execution_count": 12,
   "metadata": {},
   "outputs": [],
   "source": [
    "def portfolio_risk(weights: np.ndarray, sigma1: float, sigma2: float, rho: float) -> float:\n",
    "    \"\"\"\n",
    "    Calculate the portfolio risk based on weights, individual volatilities, and correlation.\n",
    "    \n",
    "    Parameters:\n",
    "        weights (np.ndarray): Array of weights for the securities.\n",
    "        sigma1 (float): Volatility of the first security.\n",
    "        sigma2 (float): Volatility of the second security.\n",
    "        rho (float): Correlation coefficient between the securities.\n",
    "    \n",
    "    Returns:\n",
    "        float: The calculated portfolio risk.\n",
    "    \"\"\"\n",
    "    return np.sqrt((sigma1 * weights[0]) ** 2 + (sigma2 * weights[1]) ** 2 + \n",
    "                   2 * rho * sigma1 * sigma2 * weights[0] * weights[1])"
   ]
  },
  {
   "cell_type": "code",
   "execution_count": 14,
   "metadata": {},
   "outputs": [],
   "source": [
    "def objective(weights: np.ndarray) -> float:\n",
    "    \"\"\"\n",
    "    Objective function for minimization, used to maximize portfolio return.\n",
    "    \n",
    "    Parameters:\n",
    "        weights (np.ndarray): Array of weights for the securities.\n",
    "    \n",
    "    Returns:\n",
    "        float: Negative of the portfolio return (for minimization).\n",
    "    \"\"\"\n",
    "    return -portfolio_return(weights, mu1, mu2)"
   ]
  },
  {
   "cell_type": "code",
   "execution_count": 16,
   "metadata": {},
   "outputs": [],
   "source": [
    "def constraint(weights: np.ndarray, sigma_T: float) -> float:\n",
    "    \"\"\"\n",
    "    Constraint for the optimizer to achieve a specific target risk.\n",
    "    \n",
    "    Parameters:\n",
    "        weights (np.ndarray): Array of weights for the securities.\n",
    "        sigma_T (float): Target risk level.\n",
    "    \n",
    "    Returns:\n",
    "        float: Difference between current and target risks.\n",
    "    \"\"\"\n",
    "    return portfolio_risk(weights, sigma1, sigma2, rho) - sigma_T"
   ]
  },
  {
   "cell_type": "code",
   "execution_count": 17,
   "metadata": {},
   "outputs": [],
   "source": [
    "results_rp: List[float] = []\n",
    "\n",
    "for sigma_T in sigma_T_values:\n",
    "    cons = ({'type': 'eq', 'fun': lambda x: np.sum(x) - 1},\n",
    "            {'type': 'eq', 'fun': lambda x: constraint(x, sigma_T)})\n",
    "    bounds: Tuple[Tuple[float, float], Tuple[float, float]] = ((0, 1), (0, 1))\n",
    "    initial_weights: List[float] = [0.5, 0.5]\n",
    "    result = minimize(objective, initial_weights, bounds=bounds, constraints=cons)\n",
    "    results_rp.append(-result.fun)"
   ]
  },
  {
   "cell_type": "code",
   "execution_count": 18,
   "metadata": {},
   "outputs": [
    {
     "data": {
      "image/png": "[encoded data removed]",
      "text/plain": [
       "<Figure size 1000x600 with 1 Axes>"
      ]
     },
     "metadata": {},
     "output_type": "display_data"
    }
   ],
   "source": [
    "# Plotting the efficient frontier\n",
    "plt.figure(figsize=(10, 6))\n",
    "plt.plot(sigma_T_values, results_rp, 'b-', label='Efficient Frontier')\n",
    "plt.title('Efficient Frontier')\n",
    "plt.xlabel('Target Risk $\\sigma_T$')\n",
    "plt.ylabel('Expected Portfolio Return $R_p(\\sigma_T)$')\n",
    "plt.grid(True)\n",
    "plt.legend()\n",
    "plt.show()"
   ]
  },
  {
   "cell_type": "markdown",
   "metadata": {},
   "source": [
    "##### Frontier Analysis"
   ]
  },
  {
   "cell_type": "markdown",
   "metadata": {},
   "source": [
    "The graph above depicts the relationship between the target risk ($\\sigma_T$) and the expected portfolio return ($R_p(\\sigma_T)$). Below are the key takeaways:\n",
    "\n",
    "1. ***Monotonic Increase***: As expected, the expected portfolio return increases with an increase in target risk, $\\sigma_T$. This reflects the classic **risk-return trade-off** in portfolio management.\n",
    "\n",
    "2. ***Plateau at Higher Risks***: The plateau observed at higher risk levels suggests that increasing risk beyond a certain point does **not proportionally increase returns**. This could be indicative of the constraints imposed by the maximum returns achievable based on the securities' parameters.\n",
    "\n",
    "3. ***Sharp Rise at Lower Risks***: The initial sharp rise suggests that minimal increases in risk from the lower end are highly compensated by increased returns. This can be attributed to the efficient allocation of weights in response to changes in $\\sigma_T$ under the given constraints."
   ]
  },
  {
   "cell_type": "markdown",
   "metadata": {},
   "source": [
    "#### Optimization w/Inequality Constraints (20 pts)"
   ]
  },
  {
   "cell_type": "markdown",
   "metadata": {},
   "source": [
    "Solve analytically (at least) one of the two following problems:\n",
    "\n",
    "$$\n",
    "\\begin{cases}\n",
    "\\underset{x_1, x_2} \\max & (x_1 - 2)^2 + 2(x_2 - 1)^2 \\tag{2}\n",
    "\\\\\n",
    "\\text{s.t} & x_1 + 4x_2 \\leq 3\n",
    "\\\\\n",
    "& x_1 \\geq x_2\n",
    "\\end{cases}\n",
    "$$\n",
    "\n",
    "$$\n",
    "\\begin{cases}\n",
    "\\underset{x_1, x_2} \\max & 5 - x_1^2 - x_1x_2 - 3x_2^2 \\tag{3}\n",
    "\\\\\n",
    "\\text{s.t} & x_1, x_2 \\geq 0\n",
    "\\\\\n",
    "& x_1 x_2 \\geq 2\n",
    "\\end{cases}\n",
    "$$\n",
    "\n",
    "and use an optimizer to verify your answer."
   ]
  }
 ],
 "metadata": {
  "kernelspec": {
   "display_name": "Python 3",
   "language": "python",
   "name": "python3"
  },
  "language_info": {
   "codemirror_mode": {
    "name": "ipython",
    "version": 3
   },
   "file_extension": ".py",
   "mimetype": "text/x-python",
   "name": "python",
   "nbconvert_exporter": "python",
   "pygments_lexer": "ipython3",
   "version": "3.11.5"
  }
 },
 "nbformat": 4,
 "nbformat_minor": 2
}
