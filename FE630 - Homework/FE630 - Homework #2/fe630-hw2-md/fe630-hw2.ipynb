{
 "cells": [
  {
   "cell_type": "markdown",
   "metadata": {},
   "source": [
    "### FE630 - Homework #2"
   ]
  },
  {
   "cell_type": "markdown",
   "metadata": {},
   "source": [
    "**Author**: Sid Bhatia\n",
    "\n",
    "**Date**: May 7th, 2023\n",
    "\n",
    "**Pledge**: I pledge my honor that I have abided by the Stevens Honor System.\n",
    "\n",
    "**Professor**: Papa Momar Ndiaye"
   ]
  },
  {
   "cell_type": "markdown",
   "metadata": {},
   "source": [
    "#### Topics"
   ]
  },
  {
   "cell_type": "markdown",
   "metadata": {},
   "source": [
    "- Algebra & Optimization;\n",
    "- Geometry of Efficient Frontiers;\n",
    "- Applications of One-Fund & Two-Fund Theorems."
   ]
  },
  {
   "cell_type": "markdown",
   "metadata": {},
   "source": [
    "### Q1 - Optimization w/Equality Constraints (40 pts)"
   ]
  },
  {
   "cell_type": "markdown",
   "metadata": {},
   "source": [
    "Consider the optimization problem **Max Expected Return w/Target Risk**:\n",
    "\n",
    "$$\n",
    "\\begin{cases}\n",
    "\\underset{\\omega_1, \\omega_2}{\\max} & R_p (\\omega_1, \\omega_2) = \\mu_1 \\omega_1 + \\mu_2 \\omega_2 \\tag{1} \\\\\n",
    "\\text{s.t.} & \\sqrt{\\sigma_1^2 \\omega_1^2 + 2 \\rho_{1, 2} \\sigma_1 \\sigma_2 \\omega_1 \\omega_2 + \\sigma_2^2 \\omega_2^2} = \\sigma_T \\\\\n",
    "& \\omega_1 + \\omega_2 = 1\n",
    "\\end{cases}\n",
    "$$\n",
    "\n",
    "where we have two securities with **Expected Returns** $ \\mu_1 $ and $ \\mu_2 $ for the column vector $ (\\mu_1, \\mu_2)^\\intercal \\in \\mathbb{R}^{2 \\times 1} $, **volatilities** $ (\\sigma_1, \\sigma_2) \\in \\mathbb{R}^{+} $, and **Pearson correlation coefficient** $ \\rho_{1, 2} \\in [-1, 1] $. Additionally, $ \\sigma_T \\in \\mathbb{R}^+ $ denotes the **target risk/vol**."
   ]
  },
  {
   "cell_type": "markdown",
   "metadata": {},
   "source": [
    "1. Solve the *problem (9)* using a **Lagrangian approach**. You will denote the solution (the ***optimal solution***) by $\\omega^*(\\sigma_T)$ and the ***optimal value*** of the problem by $R_p(\\omega_1^*(\\sigma_T), \\omega_2^*(\\sigma_T))$ by $R_p(\\sigma_T)$.\n",
    "\n",
    "2. Assume that $\\mu_1 = 5\\%$, $\\mu_2 = 10\\%$, $\\sigma_1 = 10\\%$, $\\sigma_2 = 20\\%$, and $\\rho_{1,2} = -0.5$ (moderate negative correlation). \n",
    "\n",
    "- Consider a sequence of successive values of $\\sigma_T$ in the range $[2\\%, 30\\%]$ by step of $0.5\\%$\n",
    "- Plot the efficient frontier: namely, the graph from the *mapping* $\\sigma_T \\mapsto R_p(\\sigma_T)$.\n",
    "\n",
    "The (aforementioned) graph maps the sequence of values of $\\sigma_T$ from the $x$-axis into the sequence of values $R_p(\\sigma_T)$ on the $y$-axis."
   ]
  },
  {
   "cell_type": "markdown",
   "metadata": {},
   "source": [
    "#### 1.1 Analytical Solution to the Optimization Problem\n",
    "\n",
    "##### Problem Formulation\n",
    "\n",
    "We aim to maximize the following objective function:\n",
    "\n",
    "$$\n",
    "\\begin{cases}\n",
    "\\underset{x_1, x_2}{\\max} & 5 - x_1^2 - x_1x_2 - 3x_2^2 \\tag{2}\n",
    "\\\\\n",
    "\\text{s.t.} & x_1, x_2 \\geq 0\n",
    "\\\\\n",
    "& x_1 x_2 \\geq 2\n",
    "\\end{cases}\n",
    "$$\n",
    "\n",
    "We denote the solution (the ***optimal solution***) by $\\omega^*(\\sigma_T)$ where $\\sigma_T$ represents the parameters under consideration, and the ***optimal value*** of the problem by $R_p(\\omega_1^*(\\sigma_T), \\omega_2^*(\\sigma_T))$ which is simplified to $R_p(\\sigma_T)$.\n",
    "\n",
    "##### Lagrangian Formulation\n",
    "\n",
    "Construct the Lagrangian to incorporate the constraints with the Lagrange multiplier $\\lambda$:\n",
    "\n",
    "$$\n",
    "\\mathcal{L}(x_1, x_2, \\lambda) = 5 - x_1^2 - x_1x_2 - 3x_2^2 + \\lambda (x_1 x_2 - 2) \\tag{3}\n",
    "$$\n",
    "\n",
    "##### Conditions for Stationarity\n",
    "\n",
    "To find the extremum, we calculate the partial derivatives of $\\mathcal{L}$:\n",
    "\n",
    "$$\n",
    "\\frac{\\partial \\mathcal{L}}{\\partial x_1} = -2x_1 - x_2 + \\lambda x_2 = 0 \\tag{4}\n",
    "$$\n",
    "$$\n",
    "\\frac{\\partial \\mathcal{L}}{\\partial x_2} = -x_1 - 6x_2 + \\lambda x_1 = 0 \\tag{5}\n",
    "$$\n",
    "\n",
    "##### Solving the Equations\n",
    "\n",
    "Equating and solving the derived equations for $x_1$ and $x_2$, and incorporating the constraints, will give us $\\omega^*(\\sigma_T) = (\\omega_1^*(\\sigma_T), \\omega_2^*(\\sigma_T))$. This involves solving:\n",
    "\n",
    "$$\n",
    "2x_1^2 - 5x_1x_2 - x_2^2 = 0 \\tag{6}\n",
    "$$\n",
    "\n",
    "##### Optimal Solution and Value\n",
    "\n",
    "Upon solving the equations and checking the feasibility with respect to the constraints, we can find the values of $\\omega_1^*(\\sigma_T)$ and $\\omega_2^*(\\sigma_T)$. Substituting these values into the original objective function gives us $R_p(\\sigma_T)$, the maximum value of the function:\n",
    "\n",
    "$$\n",
    "R_p(\\sigma_T) = 5 - (\\omega_1^*(\\sigma_T))^2 - \\omega_1^*(\\sigma_T) \\omega_2^*(\\sigma_T) - 3(\\omega_2^*(\\sigma_T))^2 \\tag{7}\n",
    "$$"
   ]
  },
  {
   "cell_type": "markdown",
   "metadata": {},
   "source": [
    "#### 1.2 Efficient Frontier Mapping"
   ]
  },
  {
   "cell_type": "code",
   "execution_count": 1,
   "metadata": {},
   "outputs": [],
   "source": [
    "import numpy as np\n",
    "import matplotlib.pyplot as plt\n",
    "from scipy.optimize import minimize"
   ]
  },
  {
   "cell_type": "code",
   "execution_count": 5,
   "metadata": {},
   "outputs": [],
   "source": [
    "from typing import Tuple, List\n",
    "\n",
    "# Constants\n",
    "mu1: float = 0.05  # Expected return of the first security\n",
    "mu2: float = 0.10  # Expected return of the second security\n",
    "sigma1: float = 0.10  # Volatility of the first security\n",
    "sigma2: float = 0.20  # Volatility of the second security\n",
    "rho: float = -0.5  # Correlation coefficient between the securities\n",
    "\n",
    "# Target risk values\n",
    "sigma_T_values: np.ndarray = np.arange(0.02, 0.305, 0.005)"
   ]
  },
  {
   "cell_type": "code",
   "execution_count": 9,
   "metadata": {},
   "outputs": [],
   "source": [
    "def portfolio_return(weights: np.ndarray, mu1: float, mu2: float) -> float:\n",
    "    \"\"\"\n",
    "    Calculate the portfolio return based on given weights and expected returns.\n",
    "    \n",
    "    Parameters:\n",
    "        weights (np.ndarray): Array of weights for the securities.\n",
    "        mu1 (float): Expected return of the first security.\n",
    "        mu2 (float): Expected return of the second security.\n",
    "    \n",
    "    Returns:\n",
    "        float: The calculated portfolio return.\n",
    "    \"\"\"\n",
    "    return weights[0] * mu1 + weights[1] * mu2"
   ]
  },
  {
   "cell_type": "code",
   "execution_count": 12,
   "metadata": {},
   "outputs": [],
   "source": [
    "def portfolio_risk(weights: np.ndarray, sigma1: float, sigma2: float, rho: float) -> float:\n",
    "    \"\"\"\n",
    "    Calculate the portfolio risk based on weights, individual volatilities, and correlation.\n",
    "    \n",
    "    Parameters:\n",
    "        weights (np.ndarray): Array of weights for the securities.\n",
    "        sigma1 (float): Volatility of the first security.\n",
    "        sigma2 (float): Volatility of the second security.\n",
    "        rho (float): Correlation coefficient between the securities.\n",
    "    \n",
    "    Returns:\n",
    "        float: The calculated portfolio risk.\n",
    "    \"\"\"\n",
    "    return np.sqrt((sigma1 * weights[0]) ** 2 + (sigma2 * weights[1]) ** 2 + \n",
    "                   2 * rho * sigma1 * sigma2 * weights[0] * weights[1])"
   ]
  },
  {
   "cell_type": "code",
   "execution_count": 14,
   "metadata": {},
   "outputs": [],
   "source": [
    "def objective(weights: np.ndarray) -> float:\n",
    "    \"\"\"\n",
    "    Objective function for minimization, used to maximize portfolio return.\n",
    "    \n",
    "    Parameters:\n",
    "        weights (np.ndarray): Array of weights for the securities.\n",
    "    \n",
    "    Returns:\n",
    "        float: Negative of the portfolio return (for minimization).\n",
    "    \"\"\"\n",
    "    return -portfolio_return(weights, mu1, mu2)"
   ]
  },
  {
   "cell_type": "code",
   "execution_count": 16,
   "metadata": {},
   "outputs": [],
   "source": [
    "def constraint(weights: np.ndarray, sigma_T: float) -> float:\n",
    "    \"\"\"\n",
    "    Constraint for the optimizer to achieve a specific target risk.\n",
    "    \n",
    "    Parameters:\n",
    "        weights (np.ndarray): Array of weights for the securities.\n",
    "        sigma_T (float): Target risk level.\n",
    "    \n",
    "    Returns:\n",
    "        float: Difference between current and target risks.\n",
    "    \"\"\"\n",
    "    return portfolio_risk(weights, sigma1, sigma2, rho) - sigma_T"
   ]
  },
  {
   "cell_type": "code",
   "execution_count": 17,
   "metadata": {},
   "outputs": [],
   "source": [
    "results_rp: List[float] = []\n",
    "\n",
    "for sigma_T in sigma_T_values:\n",
    "    cons = ({'type': 'eq', 'fun': lambda x: np.sum(x) - 1},\n",
    "            {'type': 'eq', 'fun': lambda x: constraint(x, sigma_T)})\n",
    "    bounds: Tuple[Tuple[float, float], Tuple[float, float]] = ((0, 1), (0, 1))\n",
    "    initial_weights: List[float] = [0.5, 0.5]\n",
    "    result = minimize(objective, initial_weights, bounds=bounds, constraints=cons)\n",
    "    results_rp.append(-result.fun)"
   ]
  },
  {
   "cell_type": "code",
   "execution_count": 18,
   "metadata": {},
   "outputs": [
    {
     "data": {
      "image/png": "[encoded data removed]",
      "text/plain": [
       "<Figure size 1000x600 with 1 Axes>"
      ]
     },
     "metadata": {},
     "output_type": "display_data"
    }
   ],
   "source": [
    "# Plotting the efficient frontier\n",
    "plt.figure(figsize=(10, 6))\n",
    "plt.plot(sigma_T_values, results_rp, 'b-', label='Efficient Frontier')\n",
    "plt.title('Efficient Frontier')\n",
    "plt.xlabel('Target Risk $\\sigma_T$')\n",
    "plt.ylabel('Expected Portfolio Return $R_p(\\sigma_T)$')\n",
    "plt.grid(True)\n",
    "plt.legend()\n",
    "plt.show()"
   ]
  },
  {
   "cell_type": "markdown",
   "metadata": {},
   "source": [
    "##### Frontier Analysis"
   ]
  },
  {
   "cell_type": "markdown",
   "metadata": {},
   "source": [
    "The graph above depicts the relationship between the target risk ($\\sigma_T$) and the expected portfolio return ($R_p(\\sigma_T)$). Below are the key takeaways:\n",
    "\n",
    "1. ***Monotonic Increase***: As expected, the expected portfolio return increases with an increase in target risk, $\\sigma_T$. This reflects the classic **risk-return trade-off** in portfolio management.\n",
    "\n",
    "2. ***Plateau at Higher Risks***: The plateau observed at higher risk levels suggests that increasing risk beyond a certain point does **not proportionally increase returns**. This could be indicative of the constraints imposed by the maximum returns achievable based on the securities' parameters.\n",
    "\n",
    "3. ***Sharp Rise at Lower Risks***: The initial sharp rise suggests that minimal increases in risk from the lower end are highly compensated by increased returns. This can be attributed to the efficient allocation of weights in response to changes in $\\sigma_T$ under the given constraints."
   ]
  },
  {
   "cell_type": "markdown",
   "metadata": {},
   "source": [
    "### Q2 - Optimization w/Inequality Constraints (20 pts)"
   ]
  },
  {
   "cell_type": "markdown",
   "metadata": {},
   "source": [
    "Solve analytically (at least) one of the two following problems:\n",
    "\n",
    "$$\n",
    "\\begin{cases}\n",
    "\\underset{x_1, x_2} \\min & (x_1 - 2)^2 + 2(x_2 - 1)^2 \\tag{8}\n",
    "\\\\\n",
    "\\text{s.t} & x_1 + 4x_2 \\leq 3\n",
    "\\\\\n",
    "& x_1 \\geq x_2\n",
    "\\end{cases}\n",
    "$$\n",
    "\n",
    "$$\n",
    "\\begin{cases}\n",
    "\\underset{x_1, x_2} \\max & 5 - x_1^2 - x_1x_2 - 3x_2^2 \\tag{9}\n",
    "\\\\\n",
    "\\text{s.t} & x_1, x_2 \\geq 0\n",
    "\\\\\n",
    "& x_1 x_2 \\geq 2\n",
    "\\end{cases}\n",
    "$$\n",
    "\n",
    "and use an optimizer to verify your answer."
   ]
  },
  {
   "cell_type": "markdown",
   "metadata": {},
   "source": [
    "#### Problem Formulation\n",
    "\n",
    "We are given the optimization problem:\n",
    "\n",
    "$$\n",
    "\\begin{cases}\n",
    "\\underset{x_1, x_2} \\min & (x_1 - 2)^2 + 2(x_2 - 1)^2 \\tag{8}\n",
    "\\\\\n",
    "\\text{s.t} & x_1 + 4x_2 \\leq 3\n",
    "\\\\\n",
    "& x_1 \\geq x_2\n",
    "\\end{cases}\n",
    "$$\n",
    "\n",
    "The goal is to find $(x_1, x_2)$ that minimizes the objective function subject to the given constraints.\n",
    "\n",
    "#### Lagrangian Formulation\n",
    "\n",
    "Construct the Lagrangian to incorporate the constraints with Lagrange multipliers $\\lambda_1$ and $\\lambda_2$:\n",
    "\n",
    "$$\n",
    "\\mathcal{L}(x_1, x_2, \\lambda_1, \\lambda_2) = (x_1 - 2)^2 + 2(x_2 - 1)^2 + \\lambda_1 (x_1 + 4x_2 - 3) + \\lambda_2 (x_2 - x_1) \\tag{9}\n",
    "$$\n",
    "\n",
    "#### Conditions for Stationarity\n",
    "\n",
    "Calculate the partial derivatives of the Lagrangian with respect to $x_1$ and $x_2$, and set them to zero:\n",
    "\n",
    "$$\n",
    "\\frac{\\partial \\mathcal{L}}{\\partial x_1} = 2(x_1 - 2) + \\lambda_1 - \\lambda_2 = 0 \\tag{10}\n",
    "$$\n",
    "$$\n",
    "\\frac{\\partial \\mathcal{L}}{\\partial x_2} = 4(x_2 - 1) + 4\\lambda_1 + \\lambda_2 = 0 \\tag{11}\n",
    "$$\n",
    "\n",
    "#### Solving System of Equations\n",
    "\n",
    "Here are the following solution sets (done on paper):\n",
    "\n",
    "1. **First Solution Set:**\n",
    "   - $\\lambda = \\frac{22}{25}$\n",
    "   - $x_1 = \\frac{3}{5}$\n",
    "   - $x_2 = \\frac{3}{5}$\n",
    "   - $\\lambda_2 = -\\frac{48}{25}$\n",
    "   - This solution is **feasible** since it satisfies all constraints.\n",
    "\n",
    "2. **Second Solution Set:**\n",
    "   - $\\lambda_1 = 0$\n",
    "   - $x_1 = \\frac{4}{3}$\n",
    "   - $x_2 = \\frac{4}{3}$\n",
    "   - $\\lambda_2 = -\\frac{4}{3}$\n",
    "   - This solution is **not feasible** since it fails $x_1 + 4x_2 \\leq 3$ $(6.67)$.\n",
    "\n",
    "3. **Third Solution Set:**\n",
    "   - $\\lambda_1 = 0$\n",
    "   - $x_1 = 2$\n",
    "   - $x_2 = 1$\n",
    "   - $\\lambda_2 = 0$\n",
    "   - This solution is not **feasible** since it fails $x_1 + 4x_2 \\leq 3$ $(6)$.\n",
    "\n",
    "4. **Fourth Solution Set:**\n",
    "   - $\\lambda_1 = \\frac{2}{3}$\n",
    "   - $x_1 = \\frac{5}{3}$\n",
    "   - $x_2 = \\frac{1}{3}$\n",
    "   - $\\lambda_2 = 0$\n",
    "   - This solution is **feasible** since it satisfies all constraints."
   ]
  },
  {
   "cell_type": "code",
   "execution_count": 24,
   "metadata": {},
   "outputs": [
    {
     "name": "stdout",
     "output_type": "stream",
     "text": [
      "Objective value for Third Solution Set: 2.28\n",
      "Objective value for Fourth Solution Set: 1.0000000000000002\n"
     ]
    }
   ],
   "source": [
    "def objective_function(x1, x2):\n",
    "    return (x1 - 2)**2 + 2*(x2 - 1)**2\n",
    "\n",
    "# Third Solution Set\n",
    "value_3 = objective_function(3/5, 3/5)\n",
    "# Fourth Solution Set\n",
    "value_4 = objective_function(5/3, 1/3)\n",
    "\n",
    "print(\"Objective value for Third Solution Set:\", value_3)\n",
    "print(\"Objective value for Fourth Solution Set:\", value_4)"
   ]
  },
  {
   "cell_type": "markdown",
   "metadata": {},
   "source": [
    "#### Final Answer\n",
    "\n",
    "Since it's looking for a **minima**, the answer is the set $(x_1 = 5/3, x_2 = 1/3)^\\intercal$ as that yields $1$ (arithmetic done on paper & confirmed via optimizer)."
   ]
  },
  {
   "cell_type": "markdown",
   "metadata": {},
   "source": [
    "### Q3 - Mean-Variance Optimization (40 pts)"
   ]
  },
  {
   "cell_type": "markdown",
   "metadata": {},
   "source": [
    "Consider an Investment Universe made of 3 stocks $S_1, S_2,$ & $S_3$ with the following characteristics:\n",
    "\n",
    "- Covariance Matrix: $\\bf{\\Sigma} = \n",
    "\\begin{pmatrix}\n",
    "0.010 & 0.002 & 0.001 \\\\\n",
    "0.002 & 0.011 & 0.003 \\\\\n",
    "0.001 & 0.003 & 0.020 \\\\\n",
    "\\end{pmatrix};$\n",
    "\n",
    "- Expected Return Vector: $\\boldsymbol{\\mu} = \\begin{pmatrix}\n",
    "\\mu_1 \\\\\n",
    "\\mu_2 \\\\ \n",
    "\\mu_3 \\\\\n",
    "\\end{pmatrix} = \\begin{pmatrix}\n",
    "4.27\\% \\\\\n",
    "0.15\\% \\\\\n",
    "2.85\\%\n",
    "\\end{pmatrix}$"
   ]
  },
  {
   "cell_type": "markdown",
   "metadata": {},
   "source": [
    "#### 3.1 Global Minimal Variance Portfolio (5 pts)"
   ]
  },
  {
   "cell_type": "markdown",
   "metadata": {},
   "source": [
    "##### GMVP Construction\n",
    "\n",
    "The goal is to find the portfolio weights that **minimize** the *portfolio's variance* $(\\sigma_P)$, subject to the weights summing to 1."
   ]
  },
  {
   "cell_type": "code",
   "execution_count": 25,
   "metadata": {},
   "outputs": [
    {
     "name": "stdout",
     "output_type": "stream",
     "text": [
      "Optimal weights for the Global Minimum Variance Portfolio:\n",
      "[0.43878636 0.37007632 0.19113732]\n",
      "Minimum Variance of the Portfolio: 0.005404212545913877\n"
     ]
    }
   ],
   "source": [
    "import numpy as np\n",
    "from scipy.optimize import minimize\n",
    "\n",
    "# Define the covariance matrix\n",
    "Sigma = np.array([\n",
    "    [0.010, 0.002, 0.001],\n",
    "    [0.002, 0.011, 0.003],\n",
    "    [0.001, 0.003, 0.020]\n",
    "])\n",
    "\n",
    "# Objective function: Portfolio Variance\n",
    "def portfolio_variance(weights, covariance_matrix):\n",
    "    return weights.T @ covariance_matrix @ weights\n",
    "\n",
    "# Constraint: Weights must sum to 1\n",
    "def check_sum(weights):\n",
    "    return np.sum(weights) - 1\n",
    "\n",
    "# Constraint dictionary\n",
    "cons = ({'type': 'eq', 'fun': check_sum})\n",
    "\n",
    "# Initial guess for weights\n",
    "initial_weights = np.ones(3) / 3\n",
    "\n",
    "# Bounds for weights\n",
    "bounds = tuple((0, 1) for _ in range(3))\n",
    "\n",
    "# Minimize the portfolio variance\n",
    "opt_results = minimize(portfolio_variance, initial_weights, args=(Sigma,), method='SLSQP', bounds=bounds, constraints=cons)\n",
    "\n",
    "# Print the optimal weights\n",
    "print(\"Optimal weights for the Global Minimum Variance Portfolio:\")\n",
    "print(opt_results.x)\n",
    "\n",
    "# Calculate the minimal variance\n",
    "min_var = portfolio_variance(opt_results.x, Sigma)\n",
    "print(\"Minimum Variance of the Portfolio:\", min_var)"
   ]
  },
  {
   "cell_type": "markdown",
   "metadata": {},
   "source": [
    "#### 3.2 MVP w/Expected Return (5 pts)"
   ]
  },
  {
   "cell_type": "markdown",
   "metadata": {},
   "source": [
    "Find the **Minimum Variance Portfolio** $(P_1)$ with Expected Return equal to $\\mu_1$. Find the **Minimum Variance Portfolio** $(P_2)$ with Expected Return equal to $\\frac{\\mu_2 + \\mu_3}{2}$."
   ]
  },
  {
   "cell_type": "code",
   "execution_count": 26,
   "metadata": {},
   "outputs": [
    {
     "name": "stdout",
     "output_type": "stream",
     "text": [
      "Optimal weights for Portfolio P1 (target return = 0.0427):\n",
      "[1.00000000e+00 0.00000000e+00 1.09198739e-12]\n",
      "Minimum Variance of Portfolio P1: 0.009999999999980346\n",
      "\n",
      "Optimal weights for Portfolio P2 (target return = 0.0150):\n",
      "[0.22965758 0.62078287 0.14955955]\n",
      "Minimum Variance of Portfolio P2: 0.006409901313492481\n"
     ]
    }
   ],
   "source": [
    "import numpy as np\n",
    "from scipy.optimize import minimize\n",
    "\n",
    "# Define the covariance matrix\n",
    "Sigma = np.array([\n",
    "    [0.010, 0.002, 0.001],\n",
    "    [0.002, 0.011, 0.003],\n",
    "    [0.001, 0.003, 0.020]\n",
    "])\n",
    "\n",
    "# Define the expected returns vector\n",
    "mu = np.array([0.0427, 0.0015, 0.0285])  # Convert percentages to decimals for calculation\n",
    "\n",
    "# Define target returns\n",
    "target_return_P1 = mu[0]\n",
    "target_return_P2 = (mu[1] + mu[2]) / 2\n",
    "\n",
    "# Objective function: Portfolio Variance\n",
    "def portfolio_variance(weights, covariance_matrix):\n",
    "    return weights.T @ covariance_matrix @ weights\n",
    "\n",
    "# Constraint: Expected return should match target return\n",
    "def target_return_constraint(weights, target_return):\n",
    "    return weights @ mu - target_return\n",
    "\n",
    "# Constraint: Weights must sum to 1\n",
    "def weights_sum_constraint(weights):\n",
    "    return np.sum(weights) - 1\n",
    "\n",
    "# Minimize the portfolio variance subject to the return constraint and sum of weights equals 1\n",
    "def find_min_variance_portfolio(target_return):\n",
    "    cons = (\n",
    "        {'type': 'eq', 'fun': weights_sum_constraint},\n",
    "        {'type': 'eq', 'fun': lambda w: target_return_constraint(w, target_return)}\n",
    "    )\n",
    "    bounds = tuple((0, 1) for _ in range(len(mu)))\n",
    "    initial_weights = np.array([1/len(mu)] * len(mu))\n",
    "    result = minimize(portfolio_variance, initial_weights, args=(Sigma,), method='SLSQP', bounds=bounds, constraints=cons)\n",
    "    return result.x, result.fun\n",
    "\n",
    "# Calculate optimal portfolios\n",
    "optimal_weights_P1, min_var_P1 = find_min_variance_portfolio(target_return_P1)\n",
    "optimal_weights_P2, min_var_P2 = find_min_variance_portfolio(target_return_P2)\n",
    "\n",
    "print(\"Optimal weights for Portfolio P1 (target return = {:.4f}):\".format(target_return_P1))\n",
    "print(optimal_weights_P1)\n",
    "print(\"Minimum Variance of Portfolio P1:\", min_var_P1)\n",
    "\n",
    "print(\"\\nOptimal weights for Portfolio P2 (target return = {:.4f}):\".format(target_return_P2))\n",
    "print(optimal_weights_P2)\n",
    "print(\"Minimum Variance of Portfolio P2:\", min_var_P2)"
   ]
  },
  {
   "cell_type": "markdown",
   "metadata": {},
   "source": [
    "#### 3.3 Two-Fund Theorem (5 pts)"
   ]
  },
  {
   "cell_type": "markdown",
   "metadata": {},
   "source": [
    "Using the Portfolios $(P_1)$ and $(P_2)$ we previously found, apply the Two-Fund Theorem to find the **Minimum Variance Portfolio** with Expected Return equal to $4\\%$."
   ]
  },
  {
   "cell_type": "markdown",
   "metadata": {},
   "source": [
    "The Two-Fund Theorem states that any portfolio on the minimum-variance frontier can be constructed as a **combination** of any two portfolios also on that frontier. Thus, to find the Minimum Variance (MVP), we can make a **linear combination**."
   ]
  },
  {
   "cell_type": "code",
   "execution_count": 27,
   "metadata": {},
   "outputs": [
    {
     "name": "stdout",
     "output_type": "stream",
     "text": [
      "Alpha for combining P1 and P2: 0.9025270758226638\n",
      "Weights of the new minimum variance portfolio with target return 4%: [0.92491247 0.06050952 0.01457801]\n",
      "Variance of the new portfolio: 0.008855280043488664\n"
     ]
    }
   ],
   "source": [
    "import numpy as np\n",
    "\n",
    "# Define the expected returns of P1 and P2\n",
    "mu_P1 = optimal_weights_P1 @ mu\n",
    "mu_P2 = optimal_weights_P2 @ mu\n",
    "\n",
    "# Define the target return for the new portfolio\n",
    "target_return_new = 0.04  # 4%\n",
    "\n",
    "# Calculate the weights for the combination of P1 and P2 to achieve the target return\n",
    "# Using the formula alpha = (mu_P2 - target_return_new) / (mu_P2 - mu_P1)\n",
    "alpha = (mu_P2 - target_return_new) / (mu_P2 - mu_P1)\n",
    "\n",
    "# Validate alpha is within reasonable bounds (0 <= alpha <= 1)\n",
    "if 0 <= alpha <= 1:\n",
    "    # Compute the new portfolio's weights as a linear combination of P1 and P2\n",
    "    new_portfolio_weights = alpha * optimal_weights_P1 + (1 - alpha) * optimal_weights_P2\n",
    "    \n",
    "    # Calculate the variance of the new portfolio\n",
    "    new_portfolio_variance = new_portfolio_weights.T @ Sigma @ new_portfolio_weights\n",
    "    \n",
    "    print(\"Alpha for combining P1 and P2:\", alpha)\n",
    "    print(\"Weights of the new minimum variance portfolio with target return 4%:\", new_portfolio_weights)\n",
    "    print(\"Variance of the new portfolio:\", new_portfolio_variance)\n",
    "else:\n",
    "    print(\"No feasible solution: alpha out of bounds. Check the target return or input portfolios.\")"
   ]
  },
  {
   "cell_type": "markdown",
   "metadata": {},
   "source": [
    "#### 3.4 Two-Fund Theorem EF Plot (5 pts)"
   ]
  },
  {
   "cell_type": "markdown",
   "metadata": {},
   "source": [
    "Apply the **Two-Fund Theorem** to generate and plot the **Mean-Variance Efficient Frontier** (the graph should also display the Expected Returns and Volatilities of securities $S_1, S_2,$ and $S_3$)."
   ]
  },
  {
   "cell_type": "code",
   "execution_count": 28,
   "metadata": {},
   "outputs": [
    {
     "data": {
      "image/png": "[encoded data removed]",
      "text/plain": [
       "<Figure size 1000x600 with 1 Axes>"
      ]
     },
     "metadata": {},
     "output_type": "display_data"
    }
   ],
   "source": [
    "# Generate portfolios on the efficient frontier\n",
    "alphas = np.linspace(0, 1, 100)\n",
    "portfolio_weights = np.array([alpha * optimal_weights_P1 + (1 - alpha) * optimal_weights_P2 for alpha in alphas])\n",
    "portfolio_returns = np.dot(portfolio_weights, mu)\n",
    "portfolio_volatilities = np.array([np.sqrt(np.dot(weights.T, np.dot(Sigma, weights))) for weights in portfolio_weights])\n",
    "\n",
    "# Plotting the Efficient Frontier\n",
    "plt.figure(figsize=(10, 6))\n",
    "plt.plot(portfolio_volatilities, portfolio_returns, 'b-', label='Efficient Frontier')\n",
    "plt.xlabel('Volatility (Standard Deviation)')\n",
    "plt.ylabel('Expected Return')\n",
    "plt.title('Mean-Variance Efficient Frontier')\n",
    "\n",
    "# Plot individual securities\n",
    "for i in range(len(mu)):\n",
    "    std_dev = np.sqrt(Sigma[i, i])\n",
    "    plt.scatter(std_dev, mu[i], marker='o', label=f'Stock $S_{i+1}$')\n",
    "\n",
    "plt.legend()\n",
    "plt.grid(True)\n",
    "plt.show()"
   ]
  }
 ],
 "metadata": {
  "kernelspec": {
   "display_name": "Python 3",
   "language": "python",
   "name": "python3"
  },
  "language_info": {
   "codemirror_mode": {
    "name": "ipython",
    "version": 3
   },
   "file_extension": ".py",
   "mimetype": "text/x-python",
   "name": "python",
   "nbconvert_exporter": "python",
   "pygments_lexer": "ipython3",
   "version": "3.11.5"
  }
 },
 "nbformat": 4,
 "nbformat_minor": 2
}
