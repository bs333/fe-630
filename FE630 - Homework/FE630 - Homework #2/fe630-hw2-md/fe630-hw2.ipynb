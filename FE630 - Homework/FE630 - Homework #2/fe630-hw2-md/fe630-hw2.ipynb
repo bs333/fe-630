{
 "cells": [
  {
   "cell_type": "markdown",
   "metadata": {},
   "source": [
    "### FE630 - Homework #2"
   ]
  },
  {
   "cell_type": "markdown",
   "metadata": {},
   "source": [
    "**Author**: Sid Bhatia\n",
    "\n",
    "**Date**: May 7th, 2023\n",
    "\n",
    "**Pledge**: I pledge my honor that I have abided by the Stevens Honor System.\n",
    "\n",
    "**Professor**: Papa Momar Ndiaye"
   ]
  },
  {
   "cell_type": "markdown",
   "metadata": {},
   "source": [
    "#### Topics"
   ]
  },
  {
   "cell_type": "markdown",
   "metadata": {},
   "source": [
    "- Algebra & Optimization;\n",
    "- Geometry of Efficient Frontiers;\n",
    "- Applications of One-Fund & Two-Fund Theorems."
   ]
  },
  {
   "cell_type": "markdown",
   "metadata": {},
   "source": [
    "#### P1 - Optimization w/Equality Constraints (40 pts)"
   ]
  },
  {
   "cell_type": "markdown",
   "metadata": {},
   "source": [
    "Consider the optimization problem **Max Expected Return w/Target Risk**:\n",
    "\n",
    "$$\n",
    "\\begin{cases}\n",
    "\\underset{\\omega_1 \\omega_2} \\max & R_P (\\omega_1, \\omega_2) = \\mu_1 \\omega_1 + \\mu_2 \\omega_2 \\tag{1}\n",
    "\\\\\n",
    "\\text{s.t.} & \\sqrt{\\sigma_1^2 \\omega_1^2 + 2\\rho_{1, 2} \\cdot \\sigma_1 \\sigma_2 + \\sigma_2^2 \\omega_2^2} = \\sigma_T\n",
    "\\\\\n",
    "& \\omega_1 + \\omega_2 = 1\n",
    "\\end{cases}\n",
    "$$"
   ]
  }
 ],
 "metadata": {
  "language_info": {
   "name": "python"
  }
 },
 "nbformat": 4,
 "nbformat_minor": 2
}
